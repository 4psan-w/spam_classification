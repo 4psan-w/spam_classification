{
 "cells": [
  {
   "cell_type": "markdown",
   "id": "6df9a4d9",
   "metadata": {},
   "source": [
    "Necessary Modules and Libraries"
   ]
  },
  {
   "cell_type": "code",
   "execution_count": 1,
   "id": "ab05772b",
   "metadata": {},
   "outputs": [],
   "source": [
    "import pandas as pd``"
   ]
  },
  {
   "cell_type": "markdown",
   "id": "618cd3cf",
   "metadata": {},
   "source": [
    "I plan on merging few datasets as the Datasets are super lopsided"
   ]
  },
  {
   "cell_type": "markdown",
   "id": "cbe02e0b",
   "metadata": {},
   "source": [
    "Dataset1\n"
   ]
  },
  {
   "cell_type": "code",
   "execution_count": 2,
   "id": "faea24e8",
   "metadata": {},
   "outputs": [],
   "source": [
    "dataset1 = pd.read_csv('spamdetection.csv', encoding='latin-1')"
   ]
  },
  {
   "cell_type": "code",
   "execution_count": 3,
   "id": "ded1dedd",
   "metadata": {},
   "outputs": [
    {
     "data": {
      "application/vnd.microsoft.datawrangler.viewer.v0+json": {
       "columns": [
        {
         "name": "index",
         "rawType": "int64",
         "type": "integer"
        },
        {
         "name": "Text",
         "rawType": "object",
         "type": "string"
        },
        {
         "name": "Label",
         "rawType": "object",
         "type": "string"
        }
       ],
       "ref": "c5927987-4519-457c-890a-2cf53ce06199",
       "rows": [
        [
         "0",
         "Oh really? perform, write a paper, go to a movie AND be home by midnight, huh?",
         "ham"
        ],
        [
         "1",
         "a seller, we would want to inform guests that beginning at 1 april new platform rules came into view and now all users are subject to mandatory procedure. a customer named maria perez has successfully searched for your order on your computer.",
         "spam"
        ],
        [
         "2",
         "U were outbid by simonwatson5120 on the Shinco DVD Plyr. 2 bid again, visit sms. ac/smsrewards 2 end bid notifications, reply END OUT",
         "spam"
        ],
        [
         "3",
         "K then 2marrow are you coming to class.",
         "ham"
        ],
        [
         "4",
         "Can you let me know details of fri when u find out cos I'm not in tom or fri. mentionned chinese. Thanks",
         "ham"
        ],
        [
         "5",
         "87077: Kick off a new season with 2wks FREE goals & news to ur mobile! Txt ur club name to 87077 eg VILLA to 87077",
         "spam"
        ],
        [
         "6",
         "I can. But it will tell quite long, cos i haven't finish my film yet...",
         "ham"
        ],
        [
         "7",
         "Hey babe, sorry i didn't get sooner. Gary can come and fix it cause he thinks he knows what it is but he doesn't go as far a Ptbo and he says it will cost  &lt;#&gt;  bucks. I don't know if it might be cheaper to find someone there ? We don't have any second hand machines at all right now, let me know what you want to do babe",
         "ham"
        ],
        [
         "8",
         "As if i wasn't having enough trouble sleeping.",
         "ham"
        ],
        [
         "9",
         "watever reLation u built up in dis world only thing which remains atlast iz lonlines with lotz n lot memories! feeling..",
         "ham"
        ],
        [
         "10",
         "I wonder if your phone battery went dead ? I had to tell you, I love you babe",
         "ham"
        ],
        [
         "11",
         "Thanks for your message. I really appreciate your sacrifice. I'm not sure of the process of direct pay but will find out on my way back from the test tomorrow. I'm in class now. Do have a wonderful day.",
         "ham"
        ],
        [
         "12",
         "Valentines Day Special! Win over Â£1000 in our quiz and take your partner on the trip of a lifetime! Send GO to 83600 now. 150p/msg rcvd. CustCare:08718720201.",
         "spam"
        ],
        [
         "13",
         "Xmas Offer! Latest Motorola, SonyEricsson & Nokia & FREE Bluetooth or DVD! Double Mins & 1000 Txt on Orange. Call MobileUpd8 on 08000839402 or call2optout/4QF2",
         "spam"
        ],
        [
         "14",
         "to log on [ service name ] until been slipped in or unexpected event. verify your account to unlock at : stop. service - balance. com / unlock",
         "spam"
        ],
        [
         "15",
         "a major shipment has arrived but not be delivered due to a failed recovery. clear space or raise your read limit : me. email - reference. com / online",
         "spam"
        ],
        [
         "16",
         "Headin towards busetop",
         "ham"
        ],
        [
         "17",
         "All these nice new shirts and the only thing I can wear them to is nudist themed ;_; you in mu?",
         "ham"
        ],
        [
         "18",
         "Ã neva tell me how i noe... I'm not at home in da aft wat...",
         "ham"
        ],
        [
         "19",
         "Hurry home u big butt. Hang up on your last caller if u have to. Food is done and I'm starving. Don't ask what I cooked.",
         "ham"
        ],
        [
         "20",
         "Now i'm going for lunch.",
         "ham"
        ],
        [
         "21",
         "Hey next sun 1030 there's a basic yoga course... at bugis... We can go for that... Pilates intro next sat.... Tell me what time you r free",
         "ham"
        ],
        [
         "22",
         "a man had paid for your card, but the details are on hold due to a security crisis. confirm contact account via : www. payment - gateway. act / info",
         "spam"
        ],
        [
         "23",
         "dear seller, your account has already temporarily suspended due more incomplete accounts. please name your name from entering this link : photo. photo - platform. com / confirm",
         "spam"
        ],
        [
         "24",
         "Ok. Me watching tv too.",
         "ham"
        ],
        [
         "25",
         "Goodo! Yes we must speak friday - egg-potato ratio for tortilla needed!",
         "ham"
        ],
        [
         "26",
         "No got new job at bar in airport on satsgettin 4.47per hour but means no lie in! keep in touch",
         "ham"
        ],
        [
         "27",
         "The world is running and i am still.maybe all are feeling the same,so be it.or i have to admit,i am mad.then where is the correction?or let me call this is life.and keep running with the world,may be u r also running.lets run.",
         "ham"
        ],
        [
         "28",
         "If u dun drive then how i go 2 sch.",
         "ham"
        ],
        [
         "29",
         "Free msg. Sorry, a service you ordered from 81303 could not be delivered as you do not have sufficient credit. Please top up to receive the service.",
         "spam"
        ],
        [
         "30",
         "IM LATE TELLMISS IM ON MY WAY",
         "ham"
        ],
        [
         "31",
         "You unbelievable faglord",
         "ham"
        ],
        [
         "32",
         "Pls come quick cant bare this.",
         "ham"
        ],
        [
         "33",
         "its message reached $ 123. 45 from access blocked. please find that you have the sender to finalize the list : okay. final - payment. com / confirm",
         "spam"
        ],
        [
         "34",
         "Congratulations! You've won a 1-year premium subscription. Verify your account to claim your reward: www.premium-offers.com/claim",
         "spam"
        ],
        [
         "35",
         "Good afternoon sunshine! How dawns that day ? Are we refreshed and happy to be alive? Do we breathe in the air and smile ? I think of you, my love ... As always",
         "ham"
        ],
        [
         "36",
         "We not watching movie already. Xy wants 2 shop so i'm shopping w her now.",
         "ham"
        ],
        [
         "37",
         "I'm there and I can see you, but you can't see me ? Maybe you should reboot ym ? I seen the buzz",
         "ham"
        ],
        [
         "38",
         "Miserable. They don't tell u that the side effects of birth control are massive gut wrenching cramps for the first 2 months. I didn't sleep at all last night.",
         "ham"
        ],
        [
         "39",
         "Yes.mum lookin strong:)",
         "ham"
        ],
        [
         "40",
         "A guy who gets used but is too dumb to realize it.",
         "ham"
        ],
        [
         "41",
         "And by when you're done I mean now",
         "ham"
        ],
        [
         "42",
         "Ding me on ya break fassyole! Blacko from londn",
         "ham"
        ],
        [
         "43",
         "Yes we are chatting too.",
         "ham"
        ],
        [
         "44",
         "K, text me when you're on the way",
         "ham"
        ],
        [
         "45",
         "Are you wet right now?",
         "ham"
        ],
        [
         "46",
         "Wot is u up 2 then bitch?",
         "ham"
        ],
        [
         "47",
         "This single single answers are we fighting? Plus i said am broke and you didnt reply",
         "ham"
        ],
        [
         "48",
         "Mon okie lor... Haha, best is cheap n gd food la, ex oso okie... Depends on whether wana eat western or chinese food... Den which u prefer...",
         "ham"
        ],
        [
         "49",
         "Hey happy birthday...",
         "ham"
        ]
       ],
       "shape": {
        "columns": 2,
        "rows": 6145
       }
      },
      "text/html": [
       "<div>\n",
       "<style scoped>\n",
       "    .dataframe tbody tr th:only-of-type {\n",
       "        vertical-align: middle;\n",
       "    }\n",
       "\n",
       "    .dataframe tbody tr th {\n",
       "        vertical-align: top;\n",
       "    }\n",
       "\n",
       "    .dataframe thead th {\n",
       "        text-align: right;\n",
       "    }\n",
       "</style>\n",
       "<table border=\"1\" class=\"dataframe\">\n",
       "  <thead>\n",
       "    <tr style=\"text-align: right;\">\n",
       "      <th></th>\n",
       "      <th>Text</th>\n",
       "      <th>Label</th>\n",
       "    </tr>\n",
       "  </thead>\n",
       "  <tbody>\n",
       "    <tr>\n",
       "      <th>0</th>\n",
       "      <td>Oh really? perform, write a paper, go to a mov...</td>\n",
       "      <td>ham</td>\n",
       "    </tr>\n",
       "    <tr>\n",
       "      <th>1</th>\n",
       "      <td>a seller, we would want to inform guests that ...</td>\n",
       "      <td>spam</td>\n",
       "    </tr>\n",
       "    <tr>\n",
       "      <th>2</th>\n",
       "      <td>U were outbid by simonwatson5120 on the Shinco...</td>\n",
       "      <td>spam</td>\n",
       "    </tr>\n",
       "    <tr>\n",
       "      <th>3</th>\n",
       "      <td>K then 2marrow are you coming to class.</td>\n",
       "      <td>ham</td>\n",
       "    </tr>\n",
       "    <tr>\n",
       "      <th>4</th>\n",
       "      <td>Can you let me know details of fri when u find...</td>\n",
       "      <td>ham</td>\n",
       "    </tr>\n",
       "    <tr>\n",
       "      <th>...</th>\n",
       "      <td>...</td>\n",
       "      <td>...</td>\n",
       "    </tr>\n",
       "    <tr>\n",
       "      <th>6140</th>\n",
       "      <td>Ok lor...</td>\n",
       "      <td>ham</td>\n",
       "    </tr>\n",
       "    <tr>\n",
       "      <th>6141</th>\n",
       "      <td>Haha... can... But i'm having dinner with my c...</td>\n",
       "      <td>ham</td>\n",
       "    </tr>\n",
       "    <tr>\n",
       "      <th>6142</th>\n",
       "      <td>the information on [ service name ] has recent...</td>\n",
       "      <td>spam</td>\n",
       "    </tr>\n",
       "    <tr>\n",
       "      <th>6143</th>\n",
       "      <td>U dun say so early hor... U c already then say...</td>\n",
       "      <td>ham</td>\n",
       "    </tr>\n",
       "    <tr>\n",
       "      <th>6144</th>\n",
       "      <td>Will it help if we propose going back again to...</td>\n",
       "      <td>ham</td>\n",
       "    </tr>\n",
       "  </tbody>\n",
       "</table>\n",
       "<p>6145 rows × 2 columns</p>\n",
       "</div>"
      ],
      "text/plain": [
       "                                                   Text Label\n",
       "0     Oh really? perform, write a paper, go to a mov...   ham\n",
       "1     a seller, we would want to inform guests that ...  spam\n",
       "2     U were outbid by simonwatson5120 on the Shinco...  spam\n",
       "3               K then 2marrow are you coming to class.   ham\n",
       "4     Can you let me know details of fri when u find...   ham\n",
       "...                                                 ...   ...\n",
       "6140                                          Ok lor...   ham\n",
       "6141  Haha... can... But i'm having dinner with my c...   ham\n",
       "6142  the information on [ service name ] has recent...  spam\n",
       "6143  U dun say so early hor... U c already then say...   ham\n",
       "6144  Will it help if we propose going back again to...   ham\n",
       "\n",
       "[6145 rows x 2 columns]"
      ]
     },
     "execution_count": 3,
     "metadata": {},
     "output_type": "execute_result"
    }
   ],
   "source": [
    "dataset1.columns = ['Text', 'Label']\n",
    "dataset1"
   ]
  },
  {
   "cell_type": "markdown",
   "id": "ac072ad6",
   "metadata": {},
   "source": [
    "Dataset2 "
   ]
  },
  {
   "cell_type": "code",
   "execution_count": 4,
   "id": "b1be5797",
   "metadata": {},
   "outputs": [],
   "source": [
    "dataset2 = pd.read_csv('spamdetection2.csv', encoding='latin-1', on_bad_lines='skip')"
   ]
  },
  {
   "cell_type": "code",
   "execution_count": 5,
   "id": "d1c3f305",
   "metadata": {},
   "outputs": [
    {
     "data": {
      "application/vnd.microsoft.datawrangler.viewer.v0+json": {
       "columns": [
        {
         "name": "index",
         "rawType": "int64",
         "type": "integer"
        },
        {
         "name": "Text",
         "rawType": "object",
         "type": "unknown"
        },
        {
         "name": "Label",
         "rawType": "object",
         "type": "unknown"
        }
       ],
       "ref": "1135c03b-fce8-4ee7-8014-6c46d315e71c",
       "rows": [
        [
         "0",
         "Confidential :Soma:, Ci@lis, :P:ntermin",
         "spam "
        ],
        [
         "1",
         "Â¢Ã ÃÂªÃÃ¼ÃÃ Â¼Â³Â³Â¯ ÃÃÂºÂ¥ÃÂ® ÃÃÂ¸Ã°ÃÃÂ¼Â­ ÂºÃÂ¸Ã°Â´ÃÂ²Â² Â¼Â±Â¹Â°ÃÃÂ¼Â¼Â¿Ã¤!! j cbop blraijvv",
         "spam "
        ],
        [
         "2",
         null,
         "spam "
        ],
        [
         "3",
         "StOck 0ppurtunities - their sh0Oting",
         "spam "
        ],
        [
         "4",
         "CP&L tariff changes (ER01-1807)",
         "ham "
        ],
        [
         "5",
         "IM draft - Florida Projects",
         "ham "
        ],
        [
         "6",
         "All your prescr[iption needs right here",
         "spam "
        ],
        [
         "7",
         "Video of teens",
         "spam "
        ],
        [
         "8",
         "CheapPrice Phamraceuticals",
         "spam "
        ],
        [
         "9",
         "st0ck P|ayer Emerging Equity Rep0rt",
         "spam "
        ],
        [
         "10",
         "big AD1PEX, XANAAX, TUSSI0NEEX, C1AL1IS, \\/AL11UM, AMB11EN, \\/11AGRRA FROM $65 changed progress",
         "spam "
        ],
        [
         "11",
         "Internet Promotion - 096276",
         "spam "
        ],
        [
         "12",
         "She told me you want a Rolex ?    92854570",
         "spam "
        ],
        [
         "13",
         "Cure weight problem with Pharmaceuticals from the web.,..cochlea simplicial",
         "spam "
        ],
        [
         "14",
         "Treat depression with medication's from the internet..amatory dudley",
         "spam "
        ],
        [
         "15",
         "News About Your VentureWire Subscription",
         "ham "
        ],
        [
         "16",
         "Top-quality prescripiton drvgs",
         "spam "
        ],
        [
         "17",
         "Get_Unlimited Movies, Sports and Entertainment Channels",
         "spam "
        ],
        [
         "18",
         "Emory",
         "spam "
        ],
        [
         "19",
         "Internet Promotion - 096276",
         "spam "
        ],
        [
         "20",
         "8/3/01 MPR ",
         "ham "
        ],
        [
         "21",
         "Get Your Own Replica",
         "spam "
        ],
        [
         "22",
         "Â¥Â«Â­Â±Â¤WÂ°ÂªÂ¹FÂ¨Ã¢Â¸UÂ¤Â¸ÂªÂºÂ°OÂ¾ÃÂªkÂ¥uÂ­n1600Â¤Â¸Â³Ã¡!!                                             VRBOJEMSFN",
         "spam "
        ],
        [
         "23",
         "Naked celebrity babes ",
         "spam "
        ],
        [
         "24",
         "Emerging GrOwth st0ck PrOfile",
         "spam "
        ],
        [
         "25",
         "=?ISO-2022-JP?B?GyRCPz83dSRKJCo0aiQkGyhC?=",
         "spam "
        ],
        [
         "26",
         "Now you can watch ON_Demand Movie channels_Free r7frh41204",
         "spam "
        ],
        [
         "27",
         "All-Nude",
         "spam "
        ],
        [
         "28",
         "=?utf-8?B?UmU6IFtjaGxvcm9mb3JtXSA2NCUgb2ZmIFZpY29kaW4uICBsb2NrZXIgZnJvY2tz?=",
         "spam "
        ],
        [
         "29",
         "=?GB2312?B?w+K30bXEyMu8yrnYz7XN+A==?=",
         "spam "
        ],
        [
         "30",
         "CheapPrice Phamraceuticals",
         "spam "
        ],
        [
         "31",
         "The Next \"H0me Run stOck?\"",
         "spam "
        ],
        [
         "32",
         "`shoot bucket loads of s,perm",
         "spam "
        ],
        [
         "33",
         "Get_Unlimited Movies, Sports and Entertainment Channels",
         "spam "
        ],
        [
         "34",
         "Precisi0n MicrO-Cap Rep0rt",
         "spam "
        ],
        [
         "35",
         "Â½ÃÂ¿Ã«ÃÃ Â³Â·Â¾ÃÂµÂµ ÃÃ·ÃÃ¥ÃÃ Â´Ã§ÃÃÂ´Ã«ÃÃ¢ 2000Â¸Â¸Â¿Ã¸Â±Ã®ÃÃ¶(Â¹Â«Â¹Ã¦Â¹Â®,Â¹Â«Â¼Â­Â·Ã¹ k vmvt e utmusdtmjds",
         "spam "
        ],
        [
         "36",
         "Promotion for your business - 840514",
         "spam "
        ],
        [
         "37",
         "Â¿ÃÃÃ ÃÃÂ°Ã­ÃÃ ÃÃÂ±Ã¢ÃÃÂ°ÃÃÃµ !ÃÃÂ°Ã­ÃÂ¯Â¸ÃÃÃ· Â½ÂºÃÂ²Â¾ÃÃÂ®ÃÃÂ°ÃÃÃµ!@ pkoysgc qe esrobbk y",
         "spam "
        ],
        [
         "38",
         "Â¿Ã¹ 1%Â´Ã« Â°Â¡ÃÃ¥ Â¾ÃÃÃ¼ÃÃ ÃÃÂ°Â£ÃÃ­ Â´Ã§ÃÃ Â´Ã«ÃÃ¢ kvbq fkqlshvxcjt",
         "spam "
        ],
        [
         "39",
         "Hey",
         "spam "
        ],
        [
         "40",
         "Get Popular Medications - NO PRIOR PRESCRIPTION! US Doctors & Pharmacies - Overnight Shipping!",
         "spam "
        ],
        [
         "41",
         "New Breed 0f Shares Trader",
         "spam "
        ],
        [
         "42",
         "double D.|CK s|ze                         ",
         "spam "
        ],
        [
         "43",
         "You've been approved at 3.25",
         "spam "
        ],
        [
         "44",
         "st0ck P|ayer Emerging Equity Rep0rt",
         "spam "
        ],
        [
         "45",
         "Shop and save at discount pharmacy",
         "spam "
        ],
        [
         "46",
         "Aggressive Invest0rs P0rtf0liO",
         "spam "
        ],
        [
         "47",
         "TRRC Chairman MICHAEL WILLIAMS and Land Commissioner DAVID DEWHUR\n\tST",
         "ham "
        ],
        [
         "48",
         "Now you can watch ON_Demand Movie channels_Free r7frh41204",
         "spam "
        ],
        [
         "49",
         "these Shares are unbe|ievab|e",
         "spam "
        ]
       ],
       "shape": {
        "columns": 2,
        "rows": 37892
       }
      },
      "text/html": [
       "<div>\n",
       "<style scoped>\n",
       "    .dataframe tbody tr th:only-of-type {\n",
       "        vertical-align: middle;\n",
       "    }\n",
       "\n",
       "    .dataframe tbody tr th {\n",
       "        vertical-align: top;\n",
       "    }\n",
       "\n",
       "    .dataframe thead th {\n",
       "        text-align: right;\n",
       "    }\n",
       "</style>\n",
       "<table border=\"1\" class=\"dataframe\">\n",
       "  <thead>\n",
       "    <tr style=\"text-align: right;\">\n",
       "      <th></th>\n",
       "      <th>Text</th>\n",
       "      <th>Label</th>\n",
       "    </tr>\n",
       "  </thead>\n",
       "  <tbody>\n",
       "    <tr>\n",
       "      <th>0</th>\n",
       "      <td>Confidential :Soma:, Ci@lis, :P:ntermin</td>\n",
       "      <td>spam</td>\n",
       "    </tr>\n",
       "    <tr>\n",
       "      <th>1</th>\n",
       "      <td>Â¢Ã ÃÂªÃÃ¼ÃÃ Â¼Â³Â³Â¯ ÃÃÂºÂ¥ÃÂ® ÃÃÂ¸...</td>\n",
       "      <td>spam</td>\n",
       "    </tr>\n",
       "    <tr>\n",
       "      <th>2</th>\n",
       "      <td>NaN</td>\n",
       "      <td>spam</td>\n",
       "    </tr>\n",
       "    <tr>\n",
       "      <th>3</th>\n",
       "      <td>StOck 0ppurtunities - their sh0Oting</td>\n",
       "      <td>spam</td>\n",
       "    </tr>\n",
       "    <tr>\n",
       "      <th>4</th>\n",
       "      <td>CP&amp;L tariff changes (ER01-1807)</td>\n",
       "      <td>ham</td>\n",
       "    </tr>\n",
       "    <tr>\n",
       "      <th>...</th>\n",
       "      <td>...</td>\n",
       "      <td>...</td>\n",
       "    </tr>\n",
       "    <tr>\n",
       "      <th>37887</th>\n",
       "      <td>frustum XANAAX, TUSSI0NEEX, C1AL1IS, \\/11AGRRA...</td>\n",
       "      <td>spam</td>\n",
       "    </tr>\n",
       "    <tr>\n",
       "      <th>37888</th>\n",
       "      <td>Get PAYPERVIEW FOR_NOTHING</td>\n",
       "      <td>spam</td>\n",
       "    </tr>\n",
       "    <tr>\n",
       "      <th>37889</th>\n",
       "      <td>RE: Nice Mmos wants a date</td>\n",
       "      <td>spam</td>\n",
       "    </tr>\n",
       "    <tr>\n",
       "      <th>37890</th>\n",
       "      <td>Get_All Premeium_Movie channels _Free</td>\n",
       "      <td>spam</td>\n",
       "    </tr>\n",
       "    <tr>\n",
       "      <th>37891</th>\n",
       "      <td>=?utf-8?q?Same medicine -- gno?=\\n =?utf-8?q?m...</td>\n",
       "      <td>spam</td>\n",
       "    </tr>\n",
       "  </tbody>\n",
       "</table>\n",
       "<p>37892 rows × 2 columns</p>\n",
       "</div>"
      ],
      "text/plain": [
       "                                                    Text  Label\n",
       "0                Confidential :Soma:, Ci@lis, :P:ntermin  spam \n",
       "1      Â¢Ã ÃÂªÃÃ¼ÃÃ Â¼Â³Â³Â¯ ÃÃÂºÂ¥ÃÂ® ÃÃÂ¸...  spam \n",
       "2                                                    NaN  spam \n",
       "3                   StOck 0ppurtunities - their sh0Oting  spam \n",
       "4                        CP&L tariff changes (ER01-1807)   ham \n",
       "...                                                  ...    ...\n",
       "37887  frustum XANAAX, TUSSI0NEEX, C1AL1IS, \\/11AGRRA...  spam \n",
       "37888                         Get PAYPERVIEW FOR_NOTHING  spam \n",
       "37889                         RE: Nice Mmos wants a date  spam \n",
       "37890              Get_All Premeium_Movie channels _Free  spam \n",
       "37891  =?utf-8?q?Same medicine -- gno?=\\n =?utf-8?q?m...  spam \n",
       "\n",
       "[37892 rows x 2 columns]"
      ]
     },
     "execution_count": 5,
     "metadata": {},
     "output_type": "execute_result"
    }
   ],
   "source": [
    "dataset2.drop(columns='Unnamed: 0' , inplace=True)\n",
    "dataset2.columns= ['Text', 'Label']\n",
    "dataset2"
   ]
  },
  {
   "cell_type": "markdown",
   "id": "b8ca5d23",
   "metadata": {},
   "source": [
    "Merging the both datasets"
   ]
  },
  {
   "cell_type": "code",
   "execution_count": 6,
   "id": "e6ebd283",
   "metadata": {},
   "outputs": [],
   "source": [
    "dataset = pd.concat([dataset1, dataset2], ignore_index=True)"
   ]
  },
  {
   "cell_type": "markdown",
   "id": "2e2e7a2f",
   "metadata": {},
   "source": [
    "Cleaning the datasets and then towards the preprocessing Part"
   ]
  },
  {
   "cell_type": "code",
   "execution_count": 7,
   "id": "a15846de",
   "metadata": {},
   "outputs": [
    {
     "data": {
      "application/vnd.microsoft.datawrangler.viewer.v0+json": {
       "columns": [
        {
         "name": "Label",
         "rawType": "object",
         "type": "string"
        },
        {
         "name": "proportion",
         "rawType": "float64",
         "type": "float"
        }
       ],
       "ref": "8e489163-377d-4042-90f7-670d6f51ce85",
       "rows": [
        [
         "spam ",
         "0.44970588903272696"
        ],
        [
         "ham ",
         "0.4107333469600963"
        ],
        [
         "ham",
         "0.10958188548976858"
        ],
        [
         "spam",
         "0.02995616724580409"
        ],
        [
         "{\"mode\":\"full\"",
         "2.2711271604097113e-05"
        ]
       ],
       "shape": {
        "columns": 1,
        "rows": 5
       }
      },
      "text/plain": [
       "Label\n",
       "spam              0.449706\n",
       "ham               0.410733\n",
       "ham               0.109582\n",
       "spam              0.029956\n",
       "{\"mode\":\"full\"    0.000023\n",
       "Name: proportion, dtype: float64"
      ]
     },
     "execution_count": 7,
     "metadata": {},
     "output_type": "execute_result"
    }
   ],
   "source": [
    "dataset['Label'].value_counts('normalize=True')"
   ]
  },
  {
   "cell_type": "code",
   "execution_count": 8,
   "id": "80af8e87",
   "metadata": {},
   "outputs": [],
   "source": [
    "dataset=dataset[dataset['Label'] != '{\"mode\":\"full\"']"
   ]
  },
  {
   "cell_type": "code",
   "execution_count": 9,
   "id": "2ae757e2",
   "metadata": {},
   "outputs": [],
   "source": [
    "dataset['Label'] = dataset['Label'].map({'ham ':0, 'spam ':1 , \"ham\" :0, \"spam\":1})\n"
   ]
  },
  {
   "cell_type": "code",
   "execution_count": 10,
   "id": "75ba1271",
   "metadata": {},
   "outputs": [
    {
     "data": {
      "application/vnd.microsoft.datawrangler.viewer.v0+json": {
       "columns": [
        {
         "name": "Label",
         "rawType": "float64",
         "type": "float"
        },
        {
         "name": "proportion",
         "rawType": "float64",
         "type": "float"
        }
       ],
       "ref": "45f2e591-18bc-4259-b6d2-00fc061e7ccc",
       "rows": [
        [
         "0.0",
         "0.5203270497388145"
        ],
        [
         "1.0",
         "0.47967295026118556"
        ]
       ],
       "shape": {
        "columns": 1,
        "rows": 2
       }
      },
      "text/plain": [
       "Label\n",
       "0.0    0.520327\n",
       "1.0    0.479673\n",
       "Name: proportion, dtype: float64"
      ]
     },
     "execution_count": 10,
     "metadata": {},
     "output_type": "execute_result"
    }
   ],
   "source": [
    "dataset['Label'].value_counts(normalize=True)"
   ]
  },
  {
   "cell_type": "markdown",
   "id": "958ede13",
   "metadata": {},
   "source": [
    "Kinda Done with the Label Filtering "
   ]
  },
  {
   "cell_type": "code",
   "execution_count": 11,
   "id": "644f3055",
   "metadata": {},
   "outputs": [
    {
     "data": {
      "text/plain": [
       "(28796, 2)"
      ]
     },
     "execution_count": 11,
     "metadata": {},
     "output_type": "execute_result"
    }
   ],
   "source": [
    "dataset.dropna(inplace=True)\n",
    "dataset.drop_duplicates(inplace=True)\n",
    "dataset.shape"
   ]
  },
  {
   "cell_type": "markdown",
   "id": "4823e426",
   "metadata": {},
   "source": [
    "Function to work with the cleaning of the Texts"
   ]
  },
  {
   "cell_type": "code",
   "execution_count": 12,
   "id": "4a7ebe8b",
   "metadata": {},
   "outputs": [],
   "source": [
    "import regex as re\n",
    "import nltk\n",
    "from nltk.corpus import stopwords\n",
    "from nltk.stem import PorterStemmer\n",
    "\n",
    "def clean_texts(text) :\n",
    "    text = re.sub(r'[^a-zA-Z]', ' ', text)\n",
    "    word_corpus = nltk.word_tokenize(text)\n",
    "    ps = PorterStemmer()\n",
    "    all_stopwords = stopwords.words('english')\n",
    "\n",
    "    \n",
    "    word_corpus = [ps.stem(word.lower()) for word in word_corpus if word not in all_stopwords and len(word)>2]\n",
    "    return ' '.join(word_corpus)\n",
    "\n",
    "dataset['Text'] = dataset['Text'].apply(clean_texts)\n",
    "\n",
    "    "
   ]
  },
  {
   "cell_type": "code",
   "execution_count": 13,
   "id": "c830017a",
   "metadata": {},
   "outputs": [
    {
     "data": {
      "application/vnd.microsoft.datawrangler.viewer.v0+json": {
       "columns": [
        {
         "name": "index",
         "rawType": "int64",
         "type": "integer"
        },
        {
         "name": "Text",
         "rawType": "object",
         "type": "string"
        },
        {
         "name": "Label",
         "rawType": "float64",
         "type": "float"
        }
       ],
       "ref": "c45410a9-3378-499b-ac51-3042e3f16d89",
       "rows": [
        [
         "0",
         "realli perform write paper movi and home midnight huh",
         "0.0"
        ],
        [
         "1",
         "seller would want inform guest begin april new platform rule came view user subject mandatori procedur custom name maria perez success search order comput",
         "1.0"
        ],
        [
         "2",
         "outbid simonwatson shinco dvd plyr bid visit sm smsreward end bid notif repli end out",
         "1.0"
        ],
        [
         "3",
         "marrow come class",
         "0.0"
        ],
        [
         "4",
         "can let know detail fri find co tom fri mention chines thank",
         "0.0"
        ],
        [
         "5",
         "kick new season wk free goal news mobil txt club name villa",
         "1.0"
        ],
        [
         "6",
         "but tell quit long co finish film yet",
         "0.0"
        ],
        [
         "7",
         "hey babe sorri get sooner gari come fix caus think know far ptbo say cost buck know might cheaper find someon second hand machin right let know want babe",
         "0.0"
        ],
        [
         "8",
         "enough troubl sleep",
         "0.0"
        ],
        [
         "9",
         "watev relat built di world thing remain atlast lonlin lotz lot memori feel",
         "0.0"
        ],
        [
         "10",
         "wonder phone batteri went dead tell love babe",
         "0.0"
        ],
        [
         "11",
         "thank messag realli appreci sacrific sure process direct pay find way back test tomorrow class wonder day",
         "0.0"
        ],
        [
         "12",
         "valentin day special win quiz take partner trip lifetim send msg rcvd custcar",
         "1.0"
        ],
        [
         "13",
         "xma offer latest motorola sonyericsson nokia free bluetooth dvd doubl min txt orang call mobileupd call optout",
         "1.0"
        ],
        [
         "14",
         "log servic name slip unexpect event verifi account unlock stop servic balanc com unlock",
         "1.0"
        ],
        [
         "15",
         "major shipment arriv deliv due fail recoveri clear space rais read limit email refer com onlin",
         "1.0"
        ],
        [
         "16",
         "headin toward busetop",
         "0.0"
        ],
        [
         "17",
         "all nice new shirt thing wear nudist theme",
         "0.0"
        ],
        [
         "18",
         "neva tell noe home aft wat",
         "0.0"
        ],
        [
         "19",
         "hurri home big butt hang last caller food done starv don ask cook",
         "0.0"
        ],
        [
         "20",
         "now go lunch",
         "0.0"
        ],
        [
         "21",
         "hey next sun basic yoga cours bugi pilat intro next sat tell time free",
         "0.0"
        ],
        [
         "22",
         "man paid card detail hold due secur crisi confirm contact account via www payment gateway act info",
         "1.0"
        ],
        [
         "23",
         "dear seller account alreadi temporarili suspend due incomplet account pleas name name enter link photo photo platform com confirm",
         "1.0"
        ],
        [
         "24",
         "watch",
         "0.0"
        ],
        [
         "25",
         "goodo ye must speak friday egg potato ratio tortilla need",
         "0.0"
        ],
        [
         "26",
         "got new job bar airport satsgettin per hour mean lie keep touch",
         "0.0"
        ],
        [
         "27",
         "the world run still mayb feel admit mad correct let call life keep run world may also run let run",
         "0.0"
        ],
        [
         "28",
         "dun drive sch",
         "0.0"
        ],
        [
         "29",
         "free msg sorri servic order could deliv suffici credit pleas top receiv servic",
         "1.0"
        ],
        [
         "30",
         "late tellmiss way",
         "0.0"
        ],
        [
         "31",
         "you unbeliev faglord",
         "0.0"
        ],
        [
         "32",
         "pl come quick cant bare",
         "0.0"
        ],
        [
         "33",
         "messag reach access block pleas find sender final list okay final payment com confirm",
         "1.0"
        ],
        [
         "34",
         "congratul you year premium subscript verifi account claim reward www premium offer com claim",
         "1.0"
        ],
        [
         "35",
         "good afternoon sunshin how dawn day are refresh happi aliv breath air smile think love alway",
         "0.0"
        ],
        [
         "36",
         "watch movi alreadi want shop shop",
         "0.0"
        ],
        [
         "37",
         "see see mayb reboot seen buzz",
         "0.0"
        ],
        [
         "38",
         "miser they tell side effect birth control massiv gut wrench cramp first month sleep last night",
         "0.0"
        ],
        [
         "39",
         "ye mum lookin strong",
         "0.0"
        ],
        [
         "40",
         "guy get use dumb realiz",
         "0.0"
        ],
        [
         "41",
         "and done mean",
         "0.0"
        ],
        [
         "42",
         "ding break fassyol blacko londn",
         "0.0"
        ],
        [
         "43",
         "ye chat",
         "0.0"
        ],
        [
         "44",
         "text way",
         "0.0"
        ],
        [
         "45",
         "are wet right",
         "0.0"
        ],
        [
         "46",
         "wot bitch",
         "0.0"
        ],
        [
         "47",
         "thi singl singl answer fight plu said broke didnt repli",
         "0.0"
        ],
        [
         "48",
         "mon oki lor haha best cheap food oso oki depend whether wana eat western chines food den prefer",
         "0.0"
        ],
        [
         "49",
         "hey happi birthday",
         "0.0"
        ]
       ],
       "shape": {
        "columns": 2,
        "rows": 28796
       }
      },
      "text/html": [
       "<div>\n",
       "<style scoped>\n",
       "    .dataframe tbody tr th:only-of-type {\n",
       "        vertical-align: middle;\n",
       "    }\n",
       "\n",
       "    .dataframe tbody tr th {\n",
       "        vertical-align: top;\n",
       "    }\n",
       "\n",
       "    .dataframe thead th {\n",
       "        text-align: right;\n",
       "    }\n",
       "</style>\n",
       "<table border=\"1\" class=\"dataframe\">\n",
       "  <thead>\n",
       "    <tr style=\"text-align: right;\">\n",
       "      <th></th>\n",
       "      <th>Text</th>\n",
       "      <th>Label</th>\n",
       "    </tr>\n",
       "  </thead>\n",
       "  <tbody>\n",
       "    <tr>\n",
       "      <th>0</th>\n",
       "      <td>realli perform write paper movi and home midni...</td>\n",
       "      <td>0.0</td>\n",
       "    </tr>\n",
       "    <tr>\n",
       "      <th>1</th>\n",
       "      <td>seller would want inform guest begin april new...</td>\n",
       "      <td>1.0</td>\n",
       "    </tr>\n",
       "    <tr>\n",
       "      <th>2</th>\n",
       "      <td>outbid simonwatson shinco dvd plyr bid visit s...</td>\n",
       "      <td>1.0</td>\n",
       "    </tr>\n",
       "    <tr>\n",
       "      <th>3</th>\n",
       "      <td>marrow come class</td>\n",
       "      <td>0.0</td>\n",
       "    </tr>\n",
       "    <tr>\n",
       "      <th>4</th>\n",
       "      <td>can let know detail fri find co tom fri mentio...</td>\n",
       "      <td>0.0</td>\n",
       "    </tr>\n",
       "    <tr>\n",
       "      <th>...</th>\n",
       "      <td>...</td>\n",
       "      <td>...</td>\n",
       "    </tr>\n",
       "    <tr>\n",
       "      <th>44030</th>\n",
       "      <td>wonder symanntec game macr media from each lea...</td>\n",
       "      <td>1.0</td>\n",
       "    </tr>\n",
       "    <tr>\n",
       "      <th>44031</th>\n",
       "      <td>eol averag deal count trader product</td>\n",
       "      <td>0.0</td>\n",
       "    </tr>\n",
       "    <tr>\n",
       "      <th>44032</th>\n",
       "      <td>frustum xanaax tussi neex agrra amb pex from s...</td>\n",
       "      <td>1.0</td>\n",
       "    </tr>\n",
       "    <tr>\n",
       "      <th>44034</th>\n",
       "      <td>nice mmo want date</td>\n",
       "      <td>1.0</td>\n",
       "    </tr>\n",
       "    <tr>\n",
       "      <th>44036</th>\n",
       "      <td>utf same medicin gno utf mish cost</td>\n",
       "      <td>1.0</td>\n",
       "    </tr>\n",
       "  </tbody>\n",
       "</table>\n",
       "<p>28796 rows × 2 columns</p>\n",
       "</div>"
      ],
      "text/plain": [
       "                                                    Text  Label\n",
       "0      realli perform write paper movi and home midni...    0.0\n",
       "1      seller would want inform guest begin april new...    1.0\n",
       "2      outbid simonwatson shinco dvd plyr bid visit s...    1.0\n",
       "3                                      marrow come class    0.0\n",
       "4      can let know detail fri find co tom fri mentio...    0.0\n",
       "...                                                  ...    ...\n",
       "44030  wonder symanntec game macr media from each lea...    1.0\n",
       "44031               eol averag deal count trader product    0.0\n",
       "44032  frustum xanaax tussi neex agrra amb pex from s...    1.0\n",
       "44034                                 nice mmo want date    1.0\n",
       "44036                 utf same medicin gno utf mish cost    1.0\n",
       "\n",
       "[28796 rows x 2 columns]"
      ]
     },
     "execution_count": 13,
     "metadata": {},
     "output_type": "execute_result"
    }
   ],
   "source": [
    "dataset"
   ]
  },
  {
   "cell_type": "markdown",
   "id": "9152d4dd",
   "metadata": {},
   "source": [
    "Removing the Stemmed Portion which causes the texts removal and also cause we removed all <br>\n",
    "words having length less than 2 so "
   ]
  },
  {
   "cell_type": "code",
   "execution_count": 14,
   "id": "621e5c7d",
   "metadata": {},
   "outputs": [
    {
     "data": {
      "text/plain": [
       "(23529, 2)"
      ]
     },
     "execution_count": 14,
     "metadata": {},
     "output_type": "execute_result"
    }
   ],
   "source": [
    "dataset.dropna(inplace=True)\n",
    "dataset.drop_duplicates(inplace=True)\n",
    "dataset.shape"
   ]
  },
  {
   "cell_type": "markdown",
   "id": "340afb86",
   "metadata": {},
   "source": [
    "Lets Walk through Some EDA"
   ]
  },
  {
   "cell_type": "code",
   "execution_count": 15,
   "id": "c1c7f691",
   "metadata": {},
   "outputs": [],
   "source": [
    "spam_corpus = dataset[dataset['Label'] == 1]['Text']\n",
    "ham_corpus = dataset[dataset['Label'] == 0]['Text']"
   ]
  },
  {
   "cell_type": "code",
   "execution_count": 16,
   "id": "5d01be23",
   "metadata": {},
   "outputs": [],
   "source": [
    "from wordcloud import WordCloud\n",
    "import matplotlib.pyplot as plt\n",
    "\n",
    "\n",
    "spam_woc  = WordCloud(width=500, height=500, min_font_size=10, background_color='white').generate(' '.join(list(spam_corpus)))\n",
    "ham_woc  = WordCloud(width=500, height=500, min_font_size=10, background_color='white').generate(' '.join(list(ham_corpus)))"
   ]
  },
  {
   "cell_type": "markdown",
   "id": "52dc557a",
   "metadata": {},
   "source": [
    "### Spam Word Cloud"
   ]
  },
  {
   "cell_type": "code",
   "execution_count": 17,
   "id": "684f424f",
   "metadata": {},
   "outputs": [
    {
     "data": {
      "text/plain": [
       "<matplotlib.image.AxesImage at 0x7a635d70f9a0>"
      ]
     },
     "execution_count": 17,
     "metadata": {},
     "output_type": "execute_result"
    },
    {
     "data": {
      "image/png": "[encoded data removed]",
      "text/plain": [
       "<Figure size 640x480 with 1 Axes>"
      ]
     },
     "metadata": {},
     "output_type": "display_data"
    }
   ],
   "source": [
    "plt.imshow(spam_woc)"
   ]
  },
  {
   "cell_type": "markdown",
   "id": "6254a675",
   "metadata": {},
   "source": [
    "### ham Word Cloud"
   ]
  },
  {
   "cell_type": "code",
   "execution_count": 18,
   "id": "5014ebdd",
   "metadata": {},
   "outputs": [
    {
     "data": {
      "text/plain": [
       "<matplotlib.image.AxesImage at 0x7a635dc8ec10>"
      ]
     },
     "execution_count": 18,
     "metadata": {},
     "output_type": "execute_result"
    },
    {
     "data": {
      "image/png": "[encoded data removed]",
      "text/plain": [
       "<Figure size 640x480 with 1 Axes>"
      ]
     },
     "metadata": {},
     "output_type": "display_data"
    }
   ],
   "source": [
    "plt.imshow(ham_woc)"
   ]
  },
  {
   "cell_type": "markdown",
   "id": "9670ae89",
   "metadata": {},
   "source": [
    "character Counts in Spam texts"
   ]
  },
  {
   "cell_type": "code",
   "execution_count": 19,
   "id": "75a31849",
   "metadata": {},
   "outputs": [],
   "source": [
    "spam_corpus=spam_corpus.to_frame()\n",
    "spam_corpus['len']=spam_corpus['Text'].apply(len)"
   ]
  },
  {
   "cell_type": "markdown",
   "id": "e2034d58",
   "metadata": {},
   "source": [
    "Word Counts In Spam texts "
   ]
  },
  {
   "cell_type": "code",
   "execution_count": 20,
   "id": "e9faf82e",
   "metadata": {},
   "outputs": [
    {
     "data": {
      "application/vnd.microsoft.datawrangler.viewer.v0+json": {
       "columns": [
        {
         "name": "index",
         "rawType": "int64",
         "type": "integer"
        },
        {
         "name": "Text",
         "rawType": "object",
         "type": "string"
        },
        {
         "name": "len",
         "rawType": "int64",
         "type": "integer"
        },
        {
         "name": "word_len",
         "rawType": "int64",
         "type": "integer"
        }
       ],
       "ref": "6958f32d-ddc6-4cf0-83f0-84d86f7013c6",
       "rows": [
        [
         "1",
         "seller would want inform guest begin april new platform rule came view user subject mandatori procedur custom name maria perez success search order comput",
         "154",
         "24"
        ],
        [
         "2",
         "outbid simonwatson shinco dvd plyr bid visit sm smsreward end bid notif repli end out",
         "85",
         "15"
        ],
        [
         "5",
         "kick new season wk free goal news mobil txt club name villa",
         "59",
         "12"
        ],
        [
         "12",
         "valentin day special win quiz take partner trip lifetim send msg rcvd custcar",
         "77",
         "13"
        ],
        [
         "13",
         "xma offer latest motorola sonyericsson nokia free bluetooth dvd doubl min txt orang call mobileupd call optout",
         "110",
         "17"
        ],
        [
         "14",
         "log servic name slip unexpect event verifi account unlock stop servic balanc com unlock",
         "87",
         "14"
        ],
        [
         "15",
         "major shipment arriv deliv due fail recoveri clear space rais read limit email refer com onlin",
         "94",
         "16"
        ],
        [
         "22",
         "man paid card detail hold due secur crisi confirm contact account via www payment gateway act info",
         "98",
         "17"
        ],
        [
         "23",
         "dear seller account alreadi temporarili suspend due incomplet account pleas name name enter link photo photo platform com confirm",
         "129",
         "19"
        ],
        [
         "29",
         "free msg sorri servic order could deliv suffici credit pleas top receiv servic",
         "78",
         "13"
        ],
        [
         "33",
         "messag reach access block pleas find sender final list okay final payment com confirm",
         "85",
         "14"
        ],
        [
         "34",
         "congratul you year premium subscript verifi account claim reward www premium offer com claim",
         "92",
         "14"
        ],
        [
         "51",
         "cash balanc current pound maxim cash send meg suit land row",
         "59",
         "11"
        ],
        [
         "55",
         "dear invit xchat thi final attempt contact txt chat msgrcvdhg suit land row ldn yr",
         "82",
         "15"
        ],
        [
         "56",
         "guess thi first time creat web page www asjesu com read wrote wait opinion want friend",
         "86",
         "16"
        ],
        [
         "57",
         "princip seller would like inform april new platform came forc product elig verif procedur custom name lisa perez success turn order shop",
         "136",
         "22"
        ],
        [
         "59",
         "pleas call custom servic repres won guarante cash prize",
         "55",
         "9"
        ],
        [
         "63",
         "seller work name temporarili delet due incomplet report pleas display ident follow link www verif platform confirm",
         "114",
         "17"
        ],
        [
         "73",
         "panason bluetoothhdset free nokia free motorola free doublemin doubletxt orang contract call mobileupd call optout",
         "114",
         "15"
        ],
        [
         "83",
         "account strictli lock peopl confirm claim best follow note email",
         "64",
         "10"
        ],
        [
         "89",
         "free week nokia tone mob everi week txt nokia get txting tell mate zed pobox norm tone",
         "86",
         "17"
        ],
        [
         "95",
         "hope enjoy new content text stop unsubscrib help provid tone",
         "60",
         "10"
        ],
        [
         "99",
         "list violat platform content usag guidelin find remov updat account inform address www facebook index info unk",
         "110",
         "17"
        ],
        [
         "108",
         "buyer may purchas item proceed user account clear log amazon shop experi com login",
         "82",
         "14"
        ],
        [
         "111",
         "inform servic name place caller identif verifi unlock unlock www social profil com unlock",
         "89",
         "14"
        ],
        [
         "114",
         "account offici lock confirm claim pleas follow text facebook",
         "60",
         "9"
        ],
        [
         "117",
         "thi time tri contact pound prize claim easi call now onli per min nation rate",
         "77",
         "15"
        ],
        [
         "122",
         "congratul alreadi spent confirm ident claim inherit click link",
         "62",
         "9"
        ],
        [
         "130",
         "yahoo start year net subscript first exist account claim account www premium offer com",
         "86",
         "14"
        ],
        [
         "133",
         "pleas call custom servic repres freephon won guarante cash prize",
         "64",
         "10"
        ],
        [
         "135",
         "new email arriv deliv due full inbox clear space increas storag limit www email storag com upgrad",
         "97",
         "17"
        ],
        [
         "138",
         "gener inform name lock led suspici activ use account password unlock email mail servic balanc com unlock",
         "104",
         "17"
        ],
        [
         "148",
         "list exceed copyright licens guidelin might remain compromis updat page view self list updat com file",
         "101",
         "16"
        ],
        [
         "158",
         "unlik complet advanc transact process secur authent essenti write form www payment confirm com form",
         "99",
         "15"
        ],
        [
         "172",
         "dear administr portal remain temporarili close due upon incomplet request pleas confirm posit particip choos link www verif platform com confirm",
         "144",
         "21"
        ],
        [
         "176",
         "break accommodationvouch term condit appli claim mustprovid claim number",
         "72",
         "9"
        ],
        [
         "182",
         "free msg rington from http tm widel com index wml ecef first true jul",
         "69",
         "14"
        ],
        [
         "194",
         "screen may delet due violat commun law check laptop might avoid deactiv self health onlin",
         "89",
         "15"
        ],
        [
         "196",
         "dear seller would like inform march new platform rule put effect platform user go one verif process custom name gabi breuer success process payment order store howev due platform secur oblig verifi transact realiz inconveni import safeti commun",
         "244",
         "38"
        ],
        [
         "204",
         "dear seller file contain temporarili delet due incomplet data pleas confirm appoint follow link share share platform confirm",
         "124",
         "18"
        ],
        [
         "211",
         "tri contact repli offer video handset anytim network min unlimit text camcord repli call now",
         "92",
         "15"
        ],
        [
         "213",
         "lookatm thank purchas video clip lookatm charg think better whi send video mmsto",
         "80",
         "13"
        ],
        [
         "216",
         "custom paid account fund kept record due custom check confirm contact inform find card com verifi",
         "97",
         "16"
        ],
        [
         "220",
         "safeti may taken immedi breach commun guidelin address abil verifi deactiv onlin guidelin updat com verifi",
         "106",
         "16"
        ],
        [
         "222",
         "want anytim network min text new video phone five pound per week call repli deliveri tomorrow",
         "93",
         "16"
        ],
        [
         "223",
         "pleas call immedi urgent messag wait",
         "36",
         "6"
        ],
        [
         "225",
         "persist user action part includ manual verif pleas join inform today www verifi action",
         "86",
         "14"
        ],
        [
         "228",
         "mobil club choos top qualiti item mobil cfca",
         "44",
         "8"
        ],
        [
         "234",
         "you believ true incred txt repli learn truli amaz thing blow mind from fwd txt",
         "78",
         "15"
        ],
        [
         "235",
         "you guarante award even cashto claim award call free stop getstop php",
         "69",
         "12"
        ]
       ],
       "shape": {
        "columns": 3,
        "rows": 8963
       }
      },
      "text/html": [
       "<div>\n",
       "<style scoped>\n",
       "    .dataframe tbody tr th:only-of-type {\n",
       "        vertical-align: middle;\n",
       "    }\n",
       "\n",
       "    .dataframe tbody tr th {\n",
       "        vertical-align: top;\n",
       "    }\n",
       "\n",
       "    .dataframe thead th {\n",
       "        text-align: right;\n",
       "    }\n",
       "</style>\n",
       "<table border=\"1\" class=\"dataframe\">\n",
       "  <thead>\n",
       "    <tr style=\"text-align: right;\">\n",
       "      <th></th>\n",
       "      <th>Text</th>\n",
       "      <th>len</th>\n",
       "      <th>word_len</th>\n",
       "    </tr>\n",
       "  </thead>\n",
       "  <tbody>\n",
       "    <tr>\n",
       "      <th>1</th>\n",
       "      <td>seller would want inform guest begin april new...</td>\n",
       "      <td>154</td>\n",
       "      <td>24</td>\n",
       "    </tr>\n",
       "    <tr>\n",
       "      <th>2</th>\n",
       "      <td>outbid simonwatson shinco dvd plyr bid visit s...</td>\n",
       "      <td>85</td>\n",
       "      <td>15</td>\n",
       "    </tr>\n",
       "    <tr>\n",
       "      <th>5</th>\n",
       "      <td>kick new season wk free goal news mobil txt cl...</td>\n",
       "      <td>59</td>\n",
       "      <td>12</td>\n",
       "    </tr>\n",
       "    <tr>\n",
       "      <th>12</th>\n",
       "      <td>valentin day special win quiz take partner tri...</td>\n",
       "      <td>77</td>\n",
       "      <td>13</td>\n",
       "    </tr>\n",
       "    <tr>\n",
       "      <th>13</th>\n",
       "      <td>xma offer latest motorola sonyericsson nokia f...</td>\n",
       "      <td>110</td>\n",
       "      <td>17</td>\n",
       "    </tr>\n",
       "    <tr>\n",
       "      <th>...</th>\n",
       "      <td>...</td>\n",
       "      <td>...</td>\n",
       "      <td>...</td>\n",
       "    </tr>\n",
       "    <tr>\n",
       "      <th>44029</th>\n",
       "      <td>more money than you can spend</td>\n",
       "      <td>29</td>\n",
       "      <td>6</td>\n",
       "    </tr>\n",
       "    <tr>\n",
       "      <th>44030</th>\n",
       "      <td>wonder symanntec game macr media from each lea...</td>\n",
       "      <td>57</td>\n",
       "      <td>10</td>\n",
       "    </tr>\n",
       "    <tr>\n",
       "      <th>44032</th>\n",
       "      <td>frustum xanaax tussi neex agrra amb pex from s...</td>\n",
       "      <td>65</td>\n",
       "      <td>11</td>\n",
       "    </tr>\n",
       "    <tr>\n",
       "      <th>44034</th>\n",
       "      <td>nice mmo want date</td>\n",
       "      <td>18</td>\n",
       "      <td>4</td>\n",
       "    </tr>\n",
       "    <tr>\n",
       "      <th>44036</th>\n",
       "      <td>utf same medicin gno utf mish cost</td>\n",
       "      <td>34</td>\n",
       "      <td>7</td>\n",
       "    </tr>\n",
       "  </tbody>\n",
       "</table>\n",
       "<p>8963 rows × 3 columns</p>\n",
       "</div>"
      ],
      "text/plain": [
       "                                                    Text  len  word_len\n",
       "1      seller would want inform guest begin april new...  154        24\n",
       "2      outbid simonwatson shinco dvd plyr bid visit s...   85        15\n",
       "5      kick new season wk free goal news mobil txt cl...   59        12\n",
       "12     valentin day special win quiz take partner tri...   77        13\n",
       "13     xma offer latest motorola sonyericsson nokia f...  110        17\n",
       "...                                                  ...  ...       ...\n",
       "44029                      more money than you can spend   29         6\n",
       "44030  wonder symanntec game macr media from each lea...   57        10\n",
       "44032  frustum xanaax tussi neex agrra amb pex from s...   65        11\n",
       "44034                                 nice mmo want date   18         4\n",
       "44036                 utf same medicin gno utf mish cost   34         7\n",
       "\n",
       "[8963 rows x 3 columns]"
      ]
     },
     "execution_count": 20,
     "metadata": {},
     "output_type": "execute_result"
    }
   ],
   "source": [
    "spam_corpus['word_len'] = spam_corpus['Text'].apply(lambda x: len(nltk.word_tokenize(x)))\n",
    "spam_corpus"
   ]
  },
  {
   "cell_type": "markdown",
   "id": "11b00478",
   "metadata": {},
   "source": [
    "Wordlength On spam texts"
   ]
  },
  {
   "cell_type": "code",
   "execution_count": 21,
   "id": "8c037a8e",
   "metadata": {},
   "outputs": [
    {
     "data": {
      "application/vnd.microsoft.datawrangler.viewer.v0+json": {
       "columns": [
        {
         "name": "index",
         "rawType": "object",
         "type": "string"
        },
        {
         "name": "word_len",
         "rawType": "float64",
         "type": "float"
        }
       ],
       "ref": "981849b2-6c4a-4768-8e28-82457369e862",
       "rows": [
        [
         "count",
         "8963.0"
        ],
        [
         "mean",
         "5.576146379560415"
        ],
        [
         "std",
         "4.936720527044825"
        ],
        [
         "min",
         "0.0"
        ],
        [
         "25%",
         "2.0"
        ],
        [
         "50%",
         "4.0"
        ],
        [
         "75%",
         "7.0"
        ],
        [
         "max",
         "43.0"
        ]
       ],
       "shape": {
        "columns": 1,
        "rows": 8
       }
      },
      "text/plain": [
       "count    8963.000000\n",
       "mean        5.576146\n",
       "std         4.936721\n",
       "min         0.000000\n",
       "25%         2.000000\n",
       "50%         4.000000\n",
       "75%         7.000000\n",
       "max        43.000000\n",
       "Name: word_len, dtype: float64"
      ]
     },
     "execution_count": 21,
     "metadata": {},
     "output_type": "execute_result"
    }
   ],
   "source": [
    "spam_corpus['word_len'].describe()"
   ]
  },
  {
   "cell_type": "markdown",
   "id": "38ef700e",
   "metadata": {},
   "source": [
    "CharacterLength on Spam texts"
   ]
  },
  {
   "cell_type": "code",
   "execution_count": 22,
   "id": "9d0bf405",
   "metadata": {},
   "outputs": [
    {
     "data": {
      "application/vnd.microsoft.datawrangler.viewer.v0+json": {
       "columns": [
        {
         "name": "index",
         "rawType": "object",
         "type": "string"
        },
        {
         "name": "len",
         "rawType": "float64",
         "type": "float"
        }
       ],
       "ref": "f544eeeb-502a-4d04-ac6a-a9f48f8d792c",
       "rows": [
        [
         "count",
         "8963.0"
        ],
        [
         "mean",
         "34.2024991632266"
        ],
        [
         "std",
         "31.015123737795033"
        ],
        [
         "min",
         "0.0"
        ],
        [
         "25%",
         "14.0"
        ],
        [
         "50%",
         "24.0"
        ],
        [
         "75%",
         "44.0"
        ],
        [
         "max",
         "306.0"
        ]
       ],
       "shape": {
        "columns": 1,
        "rows": 8
       }
      },
      "text/plain": [
       "count    8963.000000\n",
       "mean       34.202499\n",
       "std        31.015124\n",
       "min         0.000000\n",
       "25%        14.000000\n",
       "50%        24.000000\n",
       "75%        44.000000\n",
       "max       306.000000\n",
       "Name: len, dtype: float64"
      ]
     },
     "execution_count": 22,
     "metadata": {},
     "output_type": "execute_result"
    }
   ],
   "source": [
    "spam_corpus['len'].describe()"
   ]
  },
  {
   "cell_type": "code",
   "execution_count": 23,
   "id": "4c671aa3",
   "metadata": {},
   "outputs": [
    {
     "name": "stderr",
     "output_type": "stream",
     "text": [
      "/tmp/ipykernel_36138/3196119029.py:8: FutureWarning: \n",
      "\n",
      "Passing `palette` without assigning `hue` is deprecated and will be removed in v0.14.0. Assign the `x` variable to `hue` and set `legend=False` for the same effect.\n",
      "\n",
      "  sns.barplot(spam_counts , palette='rocket');\n"
     ]
    },
    {
     "data": {
      "image/png": "[encoded data removed]",
      "text/plain": [
       "<Figure size 640x480 with 1 Axes>"
      ]
     },
     "metadata": {},
     "output_type": "display_data"
    }
   ],
   "source": [
    "from collections import Counter\n",
    "import seaborn as sns\n",
    "# Counter(\" \".join(spam_corpus['Text'])).most_common(10)\n",
    "# \"\".join(list(nltk.word_tokenize(spam_corpus['Text'])))\n",
    "# \" \".join(spam_corpus['Text'])\n",
    "spam_counts = dict(Counter(nltk.word_tokenize(\" \".join(spam_corpus['Text']))).most_common(10))\n",
    "# spam_counts\n",
    "sns.barplot(spam_counts , palette='rocket');\n"
   ]
  },
  {
   "cell_type": "code",
   "execution_count": 24,
   "id": "5199e644",
   "metadata": {},
   "outputs": [
    {
     "data": {
      "application/vnd.microsoft.datawrangler.viewer.v0+json": {
       "columns": [
        {
         "name": "index",
         "rawType": "int64",
         "type": "integer"
        },
        {
         "name": "Text",
         "rawType": "object",
         "type": "string"
        }
       ],
       "ref": "82fb09b0-234a-4bd8-be0e-cc8fce3aec98",
       "rows": [
        [
         "0",
         "realli perform write paper movi and home midnight huh"
        ],
        [
         "3",
         "marrow come class"
        ],
        [
         "4",
         "can let know detail fri find co tom fri mention chines thank"
        ],
        [
         "6",
         "but tell quit long co finish film yet"
        ],
        [
         "7",
         "hey babe sorri get sooner gari come fix caus think know far ptbo say cost buck know might cheaper find someon second hand machin right let know want babe"
        ],
        [
         "8",
         "enough troubl sleep"
        ],
        [
         "9",
         "watev relat built di world thing remain atlast lonlin lotz lot memori feel"
        ],
        [
         "10",
         "wonder phone batteri went dead tell love babe"
        ],
        [
         "11",
         "thank messag realli appreci sacrific sure process direct pay find way back test tomorrow class wonder day"
        ],
        [
         "16",
         "headin toward busetop"
        ],
        [
         "17",
         "all nice new shirt thing wear nudist theme"
        ],
        [
         "18",
         "neva tell noe home aft wat"
        ],
        [
         "19",
         "hurri home big butt hang last caller food done starv don ask cook"
        ],
        [
         "20",
         "now go lunch"
        ],
        [
         "21",
         "hey next sun basic yoga cours bugi pilat intro next sat tell time free"
        ],
        [
         "24",
         "watch"
        ],
        [
         "25",
         "goodo ye must speak friday egg potato ratio tortilla need"
        ],
        [
         "26",
         "got new job bar airport satsgettin per hour mean lie keep touch"
        ],
        [
         "27",
         "the world run still mayb feel admit mad correct let call life keep run world may also run let run"
        ],
        [
         "28",
         "dun drive sch"
        ],
        [
         "30",
         "late tellmiss way"
        ],
        [
         "31",
         "you unbeliev faglord"
        ],
        [
         "32",
         "pl come quick cant bare"
        ],
        [
         "35",
         "good afternoon sunshin how dawn day are refresh happi aliv breath air smile think love alway"
        ],
        [
         "36",
         "watch movi alreadi want shop shop"
        ],
        [
         "37",
         "see see mayb reboot seen buzz"
        ],
        [
         "38",
         "miser they tell side effect birth control massiv gut wrench cramp first month sleep last night"
        ],
        [
         "39",
         "ye mum lookin strong"
        ],
        [
         "40",
         "guy get use dumb realiz"
        ],
        [
         "41",
         "and done mean"
        ],
        [
         "42",
         "ding break fassyol blacko londn"
        ],
        [
         "43",
         "ye chat"
        ],
        [
         "44",
         "text way"
        ],
        [
         "45",
         "are wet right"
        ],
        [
         "46",
         "wot bitch"
        ],
        [
         "47",
         "thi singl singl answer fight plu said broke didnt repli"
        ],
        [
         "48",
         "mon oki lor haha best cheap food oso oki depend whether wana eat western chines food den prefer"
        ],
        [
         "49",
         "hey happi birthday"
        ],
        [
         "50",
         "seriou you money base"
        ],
        [
         "52",
         "miss call caus yell scrappi miss can wait come home lone today"
        ],
        [
         "53",
         "ye possibl dint tri pl dont tell one"
        ],
        [
         "54",
         "pay attent"
        ],
        [
         "58",
         "messag phone hold"
        ],
        [
         "60",
         "god taken teeth pain"
        ],
        [
         "61",
         "amaz rearrang letter give mean dormitori dirti room astronom moon starer the eye they see elect result lie let recount mother law woman hitler eleven plu two twelv plu one it amaz"
        ],
        [
         "62",
         "love want flood pretti pussi cum"
        ],
        [
         "64",
         "well you know mean text"
        ],
        [
         "65",
         "just woke yeesh late but fall asleep til"
        ],
        [
         "66",
         "come search tat vid finishd"
        ],
        [
         "67",
         "come right ahmad"
        ]
       ],
       "shape": {
        "columns": 1,
        "rows": 14566
       }
      },
      "text/plain": [
       "0        realli perform write paper movi and home midni...\n",
       "3                                        marrow come class\n",
       "4        can let know detail fri find co tom fri mentio...\n",
       "6                    but tell quit long co finish film yet\n",
       "7        hey babe sorri get sooner gari come fix caus t...\n",
       "                               ...                        \n",
       "43954             wmic rto seam report rto schedul timelin\n",
       "43967                         redeploy opportun minut time\n",
       "43997                                       polici present\n",
       "44002                   futur fuel sale ecoelectrica enron\n",
       "44006                              longview bid confidenti\n",
       "Name: Text, Length: 14566, dtype: object"
      ]
     },
     "execution_count": 24,
     "metadata": {},
     "output_type": "execute_result"
    }
   ],
   "source": [
    "ham_corpus"
   ]
  },
  {
   "cell_type": "markdown",
   "id": "b45337fb",
   "metadata": {},
   "source": [
    "Word Count In the Ham Texts "
   ]
  },
  {
   "cell_type": "code",
   "execution_count": 25,
   "id": "b63f4e01",
   "metadata": {},
   "outputs": [],
   "source": [
    "ham_corpus=ham_corpus.to_frame()\n",
    "ham_corpus['word_len']=ham_corpus['Text'].apply(lambda x: len(nltk.word_tokenize(x)))"
   ]
  },
  {
   "cell_type": "markdown",
   "id": "ececc312",
   "metadata": {},
   "source": [
    "Character Count in the Ham Texts"
   ]
  },
  {
   "cell_type": "code",
   "execution_count": 26,
   "id": "67da5d59",
   "metadata": {},
   "outputs": [],
   "source": [
    "ham_corpus['len'] = ham_corpus['Text'].apply(lambda x: len(x))\n"
   ]
  },
  {
   "cell_type": "code",
   "execution_count": 27,
   "id": "70296d67",
   "metadata": {},
   "outputs": [
    {
     "name": "stderr",
     "output_type": "stream",
     "text": [
      "/tmp/ipykernel_36138/1358950907.py:2: FutureWarning: \n",
      "\n",
      "Passing `palette` without assigning `hue` is deprecated and will be removed in v0.14.0. Assign the `x` variable to `hue` and set `legend=False` for the same effect.\n",
      "\n",
      "  sns.barplot(ham_counts , palette='rocket');\n"
     ]
    },
    {
     "data": {
      "image/png": "[encoded data removed]",
      "text/plain": [
       "<Figure size 640x480 with 1 Axes>"
      ]
     },
     "metadata": {},
     "output_type": "display_data"
    }
   ],
   "source": [
    "\n",
    "ham_counts = dict(Counter(nltk.word_tokenize(\" \".join(ham_corpus['Text']))).most_common(10))\n",
    "sns.barplot(ham_counts , palette='rocket');"
   ]
  },
  {
   "cell_type": "code",
   "execution_count": 28,
   "id": "d89ce0ab",
   "metadata": {},
   "outputs": [
    {
     "data": {
      "text/plain": [
       "<Axes: xlabel='Label', ylabel='Text'>"
      ]
     },
     "execution_count": 28,
     "metadata": {},
     "output_type": "execute_result"
    },
    {
     "data": {
      "image/png": "[encoded data removed]",
      "text/plain": [
       "<Figure size 640x480 with 1 Axes>"
      ]
     },
     "metadata": {},
     "output_type": "display_data"
    }
   ],
   "source": [
    "import seaborn as sns\n",
    "\n",
    "sns.boxplot(x=dataset['Label'], y=dataset['Text'].apply(len))"
   ]
  },
  {
   "cell_type": "markdown",
   "id": "d9d1d906",
   "metadata": {},
   "source": [
    "Word Counts Average In Ham texts "
   ]
  },
  {
   "cell_type": "code",
   "execution_count": 29,
   "id": "50b688d6",
   "metadata": {},
   "outputs": [
    {
     "data": {
      "text/plain": [
       "np.float64(14566.0)"
      ]
     },
     "execution_count": 29,
     "metadata": {},
     "output_type": "execute_result"
    }
   ],
   "source": [
    "ham_corpus.apply(len).mean()"
   ]
  },
  {
   "cell_type": "markdown",
   "id": "53c097eb",
   "metadata": {},
   "source": [
    "TFIDF Vectorisation"
   ]
  },
  {
   "cell_type": "code",
   "execution_count": 30,
   "id": "7525588e",
   "metadata": {},
   "outputs": [],
   "source": [
    "from sklearn.feature_extraction.text import TfidfVectorizer\n",
    "from sklearn.model_selection import train_test_split\n",
    "from sklearn.linear_model import LogisticRegression\n",
    "from sklearn.metrics import accuracy_score, precision_score, recall_score, f1_score, confusion_matrix\n",
    "vectoriser = TfidfVectorizer(ngram_range=(1,2) , max_features=20000 )\n"
   ]
  },
  {
   "cell_type": "code",
   "execution_count": 31,
   "id": "13c28e06",
   "metadata": {},
   "outputs": [],
   "source": [
    "train_X , test_X , train_y , test_y = train_test_split(dataset['Text'], dataset['Label'], test_size=0.2, random_state=42, stratify=dataset['Label'])"
   ]
  },
  {
   "cell_type": "code",
   "execution_count": 32,
   "id": "9e148061",
   "metadata": {},
   "outputs": [],
   "source": [
    "train_X_vectorised = vectoriser.fit_transform(train_X)\n",
    "test_X_vectorised = vectoriser.transform(test_X)"
   ]
  },
  {
   "cell_type": "code",
   "execution_count": 33,
   "id": "4b5c125c",
   "metadata": {},
   "outputs": [
    {
     "data": {
      "text/plain": [
       "array([[0., 0., 0., ..., 0., 0., 0.],\n",
       "       [0., 0., 0., ..., 0., 0., 0.],\n",
       "       [0., 0., 0., ..., 0., 0., 0.],\n",
       "       ...,\n",
       "       [0., 0., 0., ..., 0., 0., 0.],\n",
       "       [0., 0., 0., ..., 0., 0., 0.],\n",
       "       [0., 0., 0., ..., 0., 0., 0.]])"
      ]
     },
     "execution_count": 33,
     "metadata": {},
     "output_type": "execute_result"
    }
   ],
   "source": [
    "test_X_vectorised.toarray()"
   ]
  },
  {
   "cell_type": "markdown",
   "id": "05512a85",
   "metadata": {},
   "source": [
    "Cross Validation"
   ]
  },
  {
   "cell_type": "code",
   "execution_count": 54,
   "id": "811207ed",
   "metadata": {},
   "outputs": [],
   "source": [
    "from sklearn.model_selection import cross_validate \n",
    "from sklearn.model_selection import GridSearchCV\n",
    "from sklearn.naive_bayes import MultinomialNB , BernoulliNB , CategoricalNB\n",
    "linear_model = LogisticRegression(n_jobs=-1)\n",
    "MNB_model = MultinomialNB()\n",
    "scoring = {\n",
    "    'accuracy': 'accuracy',\n",
    "    'precision_macro': 'precision_macro',\n",
    "    'f1_macro': 'f1_macro'\n",
    "}\n",
    "\n",
    "lm_score =cross_validate(linear_model, train_X_vectorised, train_y, cv=5, scoring=scoring)\n",
    "Mn_score = cross_validate(MNB_model, train_X_vectorised, train_y, cv=5, scoring=scoring)"
   ]
  },
  {
   "cell_type": "code",
   "execution_count": 55,
   "id": "821d6e64",
   "metadata": {},
   "outputs": [
    {
     "data": {
      "application/vnd.microsoft.datawrangler.viewer.v0+json": {
       "columns": [
        {
         "name": "index",
         "rawType": "int64",
         "type": "integer"
        },
        {
         "name": "fit_time",
         "rawType": "float64",
         "type": "float"
        },
        {
         "name": "score_time",
         "rawType": "float64",
         "type": "float"
        },
        {
         "name": "test_accuracy",
         "rawType": "float64",
         "type": "float"
        },
        {
         "name": "test_precision_macro",
         "rawType": "float64",
         "type": "float"
        },
        {
         "name": "test_f1_macro",
         "rawType": "float64",
         "type": "float"
        }
       ],
       "ref": "8a65342e-ae83-4211-82d1-ffaa0ee389cd",
       "rows": [
        [
         "0",
         "0.05448126792907715",
         "0.006182670593261719",
         "0.8422310756972111",
         "0.8632216265380501",
         "0.8206884110261221"
        ],
        [
         "1",
         "0.0534052848815918",
         "0.007153987884521484",
         "0.8390438247011952",
         "0.8594815276130974",
         "0.81698930037244"
        ],
        [
         "2",
         "0.053421735763549805",
         "0.006663322448730469",
         "0.8401062416998673",
         "0.8570441011381618",
         "0.8192471017715064"
        ],
        [
         "3",
         "0.053653717041015625",
         "0.006860017776489258",
         "0.8304994686503719",
         "0.8489832010859558",
         "0.8072196847480965"
        ],
        [
         "4",
         "0.053456783294677734",
         "0.006898164749145508",
         "0.844845908607864",
         "0.8634814612868048",
         "0.8244853232612902"
        ]
       ],
       "shape": {
        "columns": 5,
        "rows": 5
       }
      },
      "text/html": [
       "<div>\n",
       "<style scoped>\n",
       "    .dataframe tbody tr th:only-of-type {\n",
       "        vertical-align: middle;\n",
       "    }\n",
       "\n",
       "    .dataframe tbody tr th {\n",
       "        vertical-align: top;\n",
       "    }\n",
       "\n",
       "    .dataframe thead th {\n",
       "        text-align: right;\n",
       "    }\n",
       "</style>\n",
       "<table border=\"1\" class=\"dataframe\">\n",
       "  <thead>\n",
       "    <tr style=\"text-align: right;\">\n",
       "      <th></th>\n",
       "      <th>fit_time</th>\n",
       "      <th>score_time</th>\n",
       "      <th>test_accuracy</th>\n",
       "      <th>test_precision_macro</th>\n",
       "      <th>test_f1_macro</th>\n",
       "    </tr>\n",
       "  </thead>\n",
       "  <tbody>\n",
       "    <tr>\n",
       "      <th>0</th>\n",
       "      <td>0.054481</td>\n",
       "      <td>0.006183</td>\n",
       "      <td>0.842231</td>\n",
       "      <td>0.863222</td>\n",
       "      <td>0.820688</td>\n",
       "    </tr>\n",
       "    <tr>\n",
       "      <th>1</th>\n",
       "      <td>0.053405</td>\n",
       "      <td>0.007154</td>\n",
       "      <td>0.839044</td>\n",
       "      <td>0.859482</td>\n",
       "      <td>0.816989</td>\n",
       "    </tr>\n",
       "    <tr>\n",
       "      <th>2</th>\n",
       "      <td>0.053422</td>\n",
       "      <td>0.006663</td>\n",
       "      <td>0.840106</td>\n",
       "      <td>0.857044</td>\n",
       "      <td>0.819247</td>\n",
       "    </tr>\n",
       "    <tr>\n",
       "      <th>3</th>\n",
       "      <td>0.053654</td>\n",
       "      <td>0.006860</td>\n",
       "      <td>0.830499</td>\n",
       "      <td>0.848983</td>\n",
       "      <td>0.807220</td>\n",
       "    </tr>\n",
       "    <tr>\n",
       "      <th>4</th>\n",
       "      <td>0.053457</td>\n",
       "      <td>0.006898</td>\n",
       "      <td>0.844846</td>\n",
       "      <td>0.863481</td>\n",
       "      <td>0.824485</td>\n",
       "    </tr>\n",
       "  </tbody>\n",
       "</table>\n",
       "</div>"
      ],
      "text/plain": [
       "   fit_time  score_time  test_accuracy  test_precision_macro  test_f1_macro\n",
       "0  0.054481    0.006183       0.842231              0.863222       0.820688\n",
       "1  0.053405    0.007154       0.839044              0.859482       0.816989\n",
       "2  0.053422    0.006663       0.840106              0.857044       0.819247\n",
       "3  0.053654    0.006860       0.830499              0.848983       0.807220\n",
       "4  0.053457    0.006898       0.844846              0.863481       0.824485"
      ]
     },
     "execution_count": 55,
     "metadata": {},
     "output_type": "execute_result"
    }
   ],
   "source": [
    "pd.DataFrame(lm_score)"
   ]
  },
  {
   "cell_type": "code",
   "execution_count": 56,
   "id": "40f5e2d7",
   "metadata": {},
   "outputs": [
    {
     "data": {
      "application/vnd.microsoft.datawrangler.viewer.v0+json": {
       "columns": [
        {
         "name": "index",
         "rawType": "int64",
         "type": "integer"
        },
        {
         "name": "fit_time",
         "rawType": "float64",
         "type": "float"
        },
        {
         "name": "score_time",
         "rawType": "float64",
         "type": "float"
        },
        {
         "name": "test_accuracy",
         "rawType": "float64",
         "type": "float"
        },
        {
         "name": "test_precision_macro",
         "rawType": "float64",
         "type": "float"
        },
        {
         "name": "test_f1_macro",
         "rawType": "float64",
         "type": "float"
        }
       ],
       "ref": "37482214-ee2d-42f4-908a-0ad5795fe55c",
       "rows": [
        [
         "0",
         "0.004361391067504883",
         "0.00707244873046875",
         "0.850199203187251",
         "0.8826271580825973",
         "0.8276056354493979"
        ],
        [
         "1",
         "0.0064890384674072266",
         "0.009610652923583984",
         "0.8382470119521912",
         "0.8698620462356985",
         "0.8131433705557695"
        ],
        [
         "2",
         "0.005990028381347656",
         "0.009276151657104492",
         "0.847011952191235",
         "0.875099501544643",
         "0.824707862603762"
        ],
        [
         "3",
         "0.00576019287109375",
         "0.008031368255615234",
         "0.839798087141339",
         "0.8737159050655331",
         "0.814543025524222"
        ],
        [
         "4",
         "0.0042040348052978516",
         "0.009027719497680664",
         "0.8485653560042508",
         "0.8764720942140296",
         "0.826662224179904"
        ]
       ],
       "shape": {
        "columns": 5,
        "rows": 5
       }
      },
      "text/html": [
       "<div>\n",
       "<style scoped>\n",
       "    .dataframe tbody tr th:only-of-type {\n",
       "        vertical-align: middle;\n",
       "    }\n",
       "\n",
       "    .dataframe tbody tr th {\n",
       "        vertical-align: top;\n",
       "    }\n",
       "\n",
       "    .dataframe thead th {\n",
       "        text-align: right;\n",
       "    }\n",
       "</style>\n",
       "<table border=\"1\" class=\"dataframe\">\n",
       "  <thead>\n",
       "    <tr style=\"text-align: right;\">\n",
       "      <th></th>\n",
       "      <th>fit_time</th>\n",
       "      <th>score_time</th>\n",
       "      <th>test_accuracy</th>\n",
       "      <th>test_precision_macro</th>\n",
       "      <th>test_f1_macro</th>\n",
       "    </tr>\n",
       "  </thead>\n",
       "  <tbody>\n",
       "    <tr>\n",
       "      <th>0</th>\n",
       "      <td>0.004361</td>\n",
       "      <td>0.007072</td>\n",
       "      <td>0.850199</td>\n",
       "      <td>0.882627</td>\n",
       "      <td>0.827606</td>\n",
       "    </tr>\n",
       "    <tr>\n",
       "      <th>1</th>\n",
       "      <td>0.006489</td>\n",
       "      <td>0.009611</td>\n",
       "      <td>0.838247</td>\n",
       "      <td>0.869862</td>\n",
       "      <td>0.813143</td>\n",
       "    </tr>\n",
       "    <tr>\n",
       "      <th>2</th>\n",
       "      <td>0.005990</td>\n",
       "      <td>0.009276</td>\n",
       "      <td>0.847012</td>\n",
       "      <td>0.875100</td>\n",
       "      <td>0.824708</td>\n",
       "    </tr>\n",
       "    <tr>\n",
       "      <th>3</th>\n",
       "      <td>0.005760</td>\n",
       "      <td>0.008031</td>\n",
       "      <td>0.839798</td>\n",
       "      <td>0.873716</td>\n",
       "      <td>0.814543</td>\n",
       "    </tr>\n",
       "    <tr>\n",
       "      <th>4</th>\n",
       "      <td>0.004204</td>\n",
       "      <td>0.009028</td>\n",
       "      <td>0.848565</td>\n",
       "      <td>0.876472</td>\n",
       "      <td>0.826662</td>\n",
       "    </tr>\n",
       "  </tbody>\n",
       "</table>\n",
       "</div>"
      ],
      "text/plain": [
       "   fit_time  score_time  test_accuracy  test_precision_macro  test_f1_macro\n",
       "0  0.004361    0.007072       0.850199              0.882627       0.827606\n",
       "1  0.006489    0.009611       0.838247              0.869862       0.813143\n",
       "2  0.005990    0.009276       0.847012              0.875100       0.824708\n",
       "3  0.005760    0.008031       0.839798              0.873716       0.814543\n",
       "4  0.004204    0.009028       0.848565              0.876472       0.826662"
      ]
     },
     "execution_count": 56,
     "metadata": {},
     "output_type": "execute_result"
    }
   ],
   "source": [
    "pd.DataFrame(Mn_score)"
   ]
  },
  {
   "cell_type": "markdown",
   "id": "a029d447",
   "metadata": {},
   "source": [
    "Concluding with the Use of the MULTINOMIAL NAIV BAYES "
   ]
  },
  {
   "cell_type": "code",
   "execution_count": 57,
   "id": "97ee4b8a",
   "metadata": {},
   "outputs": [
    {
     "data": {
      "text/html": [
       "<style>#sk-container-id-1 {\n",
       "  /* Definition of color scheme common for light and dark mode */\n",
       "  --sklearn-color-text: #000;\n",
       "  --sklearn-color-text-muted: #666;\n",
       "  --sklearn-color-line: gray;\n",
       "  /* Definition of color scheme for unfitted estimators */\n",
       "  --sklearn-color-unfitted-level-0: #fff5e6;\n",
       "  --sklearn-color-unfitted-level-1: #f6e4d2;\n",
       "  --sklearn-color-unfitted-level-2: #ffe0b3;\n",
       "  --sklearn-color-unfitted-level-3: chocolate;\n",
       "  /* Definition of color scheme for fitted estimators */\n",
       "  --sklearn-color-fitted-level-0: #f0f8ff;\n",
       "  --sklearn-color-fitted-level-1: #d4ebff;\n",
       "  --sklearn-color-fitted-level-2: #b3dbfd;\n",
       "  --sklearn-color-fitted-level-3: cornflowerblue;\n",
       "\n",
       "  /* Specific color for light theme */\n",
       "  --sklearn-color-text-on-default-background: var(--sg-text-color, var(--theme-code-foreground, var(--jp-content-font-color1, black)));\n",
       "  --sklearn-color-background: var(--sg-background-color, var(--theme-background, var(--jp-layout-color0, white)));\n",
       "  --sklearn-color-border-box: var(--sg-text-color, var(--theme-code-foreground, var(--jp-content-font-color1, black)));\n",
       "  --sklearn-color-icon: #696969;\n",
       "\n",
       "  @media (prefers-color-scheme: dark) {\n",
       "    /* Redefinition of color scheme for dark theme */\n",
       "    --sklearn-color-text-on-default-background: var(--sg-text-color, var(--theme-code-foreground, var(--jp-content-font-color1, white)));\n",
       "    --sklearn-color-background: var(--sg-background-color, var(--theme-background, var(--jp-layout-color0, #111)));\n",
       "    --sklearn-color-border-box: var(--sg-text-color, var(--theme-code-foreground, var(--jp-content-font-color1, white)));\n",
       "    --sklearn-color-icon: #878787;\n",
       "  }\n",
       "}\n",
       "\n",
       "#sk-container-id-1 {\n",
       "  color: var(--sklearn-color-text);\n",
       "}\n",
       "\n",
       "#sk-container-id-1 pre {\n",
       "  padding: 0;\n",
       "}\n",
       "\n",
       "#sk-container-id-1 input.sk-hidden--visually {\n",
       "  border: 0;\n",
       "  clip: rect(1px 1px 1px 1px);\n",
       "  clip: rect(1px, 1px, 1px, 1px);\n",
       "  height: 1px;\n",
       "  margin: -1px;\n",
       "  overflow: hidden;\n",
       "  padding: 0;\n",
       "  position: absolute;\n",
       "  width: 1px;\n",
       "}\n",
       "\n",
       "#sk-container-id-1 div.sk-dashed-wrapped {\n",
       "  border: 1px dashed var(--sklearn-color-line);\n",
       "  margin: 0 0.4em 0.5em 0.4em;\n",
       "  box-sizing: border-box;\n",
       "  padding-bottom: 0.4em;\n",
       "  background-color: var(--sklearn-color-background);\n",
       "}\n",
       "\n",
       "#sk-container-id-1 div.sk-container {\n",
       "  /* jupyter's `normalize.less` sets `[hidden] { display: none; }`\n",
       "     but bootstrap.min.css set `[hidden] { display: none !important; }`\n",
       "     so we also need the `!important` here to be able to override the\n",
       "     default hidden behavior on the sphinx rendered scikit-learn.org.\n",
       "     See: https://github.com/scikit-learn/scikit-learn/issues/21755 */\n",
       "  display: inline-block !important;\n",
       "  position: relative;\n",
       "}\n",
       "\n",
       "#sk-container-id-1 div.sk-text-repr-fallback {\n",
       "  display: none;\n",
       "}\n",
       "\n",
       "div.sk-parallel-item,\n",
       "div.sk-serial,\n",
       "div.sk-item {\n",
       "  /* draw centered vertical line to link estimators */\n",
       "  background-image: linear-gradient(var(--sklearn-color-text-on-default-background), var(--sklearn-color-text-on-default-background));\n",
       "  background-size: 2px 100%;\n",
       "  background-repeat: no-repeat;\n",
       "  background-position: center center;\n",
       "}\n",
       "\n",
       "/* Parallel-specific style estimator block */\n",
       "\n",
       "#sk-container-id-1 div.sk-parallel-item::after {\n",
       "  content: \"\";\n",
       "  width: 100%;\n",
       "  border-bottom: 2px solid var(--sklearn-color-text-on-default-background);\n",
       "  flex-grow: 1;\n",
       "}\n",
       "\n",
       "#sk-container-id-1 div.sk-parallel {\n",
       "  display: flex;\n",
       "  align-items: stretch;\n",
       "  justify-content: center;\n",
       "  background-color: var(--sklearn-color-background);\n",
       "  position: relative;\n",
       "}\n",
       "\n",
       "#sk-container-id-1 div.sk-parallel-item {\n",
       "  display: flex;\n",
       "  flex-direction: column;\n",
       "}\n",
       "\n",
       "#sk-container-id-1 div.sk-parallel-item:first-child::after {\n",
       "  align-self: flex-end;\n",
       "  width: 50%;\n",
       "}\n",
       "\n",
       "#sk-container-id-1 div.sk-parallel-item:last-child::after {\n",
       "  align-self: flex-start;\n",
       "  width: 50%;\n",
       "}\n",
       "\n",
       "#sk-container-id-1 div.sk-parallel-item:only-child::after {\n",
       "  width: 0;\n",
       "}\n",
       "\n",
       "/* Serial-specific style estimator block */\n",
       "\n",
       "#sk-container-id-1 div.sk-serial {\n",
       "  display: flex;\n",
       "  flex-direction: column;\n",
       "  align-items: center;\n",
       "  background-color: var(--sklearn-color-background);\n",
       "  padding-right: 1em;\n",
       "  padding-left: 1em;\n",
       "}\n",
       "\n",
       "\n",
       "/* Toggleable style: style used for estimator/Pipeline/ColumnTransformer box that is\n",
       "clickable and can be expanded/collapsed.\n",
       "- Pipeline and ColumnTransformer use this feature and define the default style\n",
       "- Estimators will overwrite some part of the style using the `sk-estimator` class\n",
       "*/\n",
       "\n",
       "/* Pipeline and ColumnTransformer style (default) */\n",
       "\n",
       "#sk-container-id-1 div.sk-toggleable {\n",
       "  /* Default theme specific background. It is overwritten whether we have a\n",
       "  specific estimator or a Pipeline/ColumnTransformer */\n",
       "  background-color: var(--sklearn-color-background);\n",
       "}\n",
       "\n",
       "/* Toggleable label */\n",
       "#sk-container-id-1 label.sk-toggleable__label {\n",
       "  cursor: pointer;\n",
       "  display: flex;\n",
       "  width: 100%;\n",
       "  margin-bottom: 0;\n",
       "  padding: 0.5em;\n",
       "  box-sizing: border-box;\n",
       "  text-align: center;\n",
       "  align-items: start;\n",
       "  justify-content: space-between;\n",
       "  gap: 0.5em;\n",
       "}\n",
       "\n",
       "#sk-container-id-1 label.sk-toggleable__label .caption {\n",
       "  font-size: 0.6rem;\n",
       "  font-weight: lighter;\n",
       "  color: var(--sklearn-color-text-muted);\n",
       "}\n",
       "\n",
       "#sk-container-id-1 label.sk-toggleable__label-arrow:before {\n",
       "  /* Arrow on the left of the label */\n",
       "  content: \"▸\";\n",
       "  float: left;\n",
       "  margin-right: 0.25em;\n",
       "  color: var(--sklearn-color-icon);\n",
       "}\n",
       "\n",
       "#sk-container-id-1 label.sk-toggleable__label-arrow:hover:before {\n",
       "  color: var(--sklearn-color-text);\n",
       "}\n",
       "\n",
       "/* Toggleable content - dropdown */\n",
       "\n",
       "#sk-container-id-1 div.sk-toggleable__content {\n",
       "  max-height: 0;\n",
       "  max-width: 0;\n",
       "  overflow: hidden;\n",
       "  text-align: left;\n",
       "  /* unfitted */\n",
       "  background-color: var(--sklearn-color-unfitted-level-0);\n",
       "}\n",
       "\n",
       "#sk-container-id-1 div.sk-toggleable__content.fitted {\n",
       "  /* fitted */\n",
       "  background-color: var(--sklearn-color-fitted-level-0);\n",
       "}\n",
       "\n",
       "#sk-container-id-1 div.sk-toggleable__content pre {\n",
       "  margin: 0.2em;\n",
       "  border-radius: 0.25em;\n",
       "  color: var(--sklearn-color-text);\n",
       "  /* unfitted */\n",
       "  background-color: var(--sklearn-color-unfitted-level-0);\n",
       "}\n",
       "\n",
       "#sk-container-id-1 div.sk-toggleable__content.fitted pre {\n",
       "  /* unfitted */\n",
       "  background-color: var(--sklearn-color-fitted-level-0);\n",
       "}\n",
       "\n",
       "#sk-container-id-1 input.sk-toggleable__control:checked~div.sk-toggleable__content {\n",
       "  /* Expand drop-down */\n",
       "  max-height: 200px;\n",
       "  max-width: 100%;\n",
       "  overflow: auto;\n",
       "}\n",
       "\n",
       "#sk-container-id-1 input.sk-toggleable__control:checked~label.sk-toggleable__label-arrow:before {\n",
       "  content: \"▾\";\n",
       "}\n",
       "\n",
       "/* Pipeline/ColumnTransformer-specific style */\n",
       "\n",
       "#sk-container-id-1 div.sk-label input.sk-toggleable__control:checked~label.sk-toggleable__label {\n",
       "  color: var(--sklearn-color-text);\n",
       "  background-color: var(--sklearn-color-unfitted-level-2);\n",
       "}\n",
       "\n",
       "#sk-container-id-1 div.sk-label.fitted input.sk-toggleable__control:checked~label.sk-toggleable__label {\n",
       "  background-color: var(--sklearn-color-fitted-level-2);\n",
       "}\n",
       "\n",
       "/* Estimator-specific style */\n",
       "\n",
       "/* Colorize estimator box */\n",
       "#sk-container-id-1 div.sk-estimator input.sk-toggleable__control:checked~label.sk-toggleable__label {\n",
       "  /* unfitted */\n",
       "  background-color: var(--sklearn-color-unfitted-level-2);\n",
       "}\n",
       "\n",
       "#sk-container-id-1 div.sk-estimator.fitted input.sk-toggleable__control:checked~label.sk-toggleable__label {\n",
       "  /* fitted */\n",
       "  background-color: var(--sklearn-color-fitted-level-2);\n",
       "}\n",
       "\n",
       "#sk-container-id-1 div.sk-label label.sk-toggleable__label,\n",
       "#sk-container-id-1 div.sk-label label {\n",
       "  /* The background is the default theme color */\n",
       "  color: var(--sklearn-color-text-on-default-background);\n",
       "}\n",
       "\n",
       "/* On hover, darken the color of the background */\n",
       "#sk-container-id-1 div.sk-label:hover label.sk-toggleable__label {\n",
       "  color: var(--sklearn-color-text);\n",
       "  background-color: var(--sklearn-color-unfitted-level-2);\n",
       "}\n",
       "\n",
       "/* Label box, darken color on hover, fitted */\n",
       "#sk-container-id-1 div.sk-label.fitted:hover label.sk-toggleable__label.fitted {\n",
       "  color: var(--sklearn-color-text);\n",
       "  background-color: var(--sklearn-color-fitted-level-2);\n",
       "}\n",
       "\n",
       "/* Estimator label */\n",
       "\n",
       "#sk-container-id-1 div.sk-label label {\n",
       "  font-family: monospace;\n",
       "  font-weight: bold;\n",
       "  display: inline-block;\n",
       "  line-height: 1.2em;\n",
       "}\n",
       "\n",
       "#sk-container-id-1 div.sk-label-container {\n",
       "  text-align: center;\n",
       "}\n",
       "\n",
       "/* Estimator-specific */\n",
       "#sk-container-id-1 div.sk-estimator {\n",
       "  font-family: monospace;\n",
       "  border: 1px dotted var(--sklearn-color-border-box);\n",
       "  border-radius: 0.25em;\n",
       "  box-sizing: border-box;\n",
       "  margin-bottom: 0.5em;\n",
       "  /* unfitted */\n",
       "  background-color: var(--sklearn-color-unfitted-level-0);\n",
       "}\n",
       "\n",
       "#sk-container-id-1 div.sk-estimator.fitted {\n",
       "  /* fitted */\n",
       "  background-color: var(--sklearn-color-fitted-level-0);\n",
       "}\n",
       "\n",
       "/* on hover */\n",
       "#sk-container-id-1 div.sk-estimator:hover {\n",
       "  /* unfitted */\n",
       "  background-color: var(--sklearn-color-unfitted-level-2);\n",
       "}\n",
       "\n",
       "#sk-container-id-1 div.sk-estimator.fitted:hover {\n",
       "  /* fitted */\n",
       "  background-color: var(--sklearn-color-fitted-level-2);\n",
       "}\n",
       "\n",
       "/* Specification for estimator info (e.g. \"i\" and \"?\") */\n",
       "\n",
       "/* Common style for \"i\" and \"?\" */\n",
       "\n",
       ".sk-estimator-doc-link,\n",
       "a:link.sk-estimator-doc-link,\n",
       "a:visited.sk-estimator-doc-link {\n",
       "  float: right;\n",
       "  font-size: smaller;\n",
       "  line-height: 1em;\n",
       "  font-family: monospace;\n",
       "  background-color: var(--sklearn-color-background);\n",
       "  border-radius: 1em;\n",
       "  height: 1em;\n",
       "  width: 1em;\n",
       "  text-decoration: none !important;\n",
       "  margin-left: 0.5em;\n",
       "  text-align: center;\n",
       "  /* unfitted */\n",
       "  border: var(--sklearn-color-unfitted-level-1) 1pt solid;\n",
       "  color: var(--sklearn-color-unfitted-level-1);\n",
       "}\n",
       "\n",
       ".sk-estimator-doc-link.fitted,\n",
       "a:link.sk-estimator-doc-link.fitted,\n",
       "a:visited.sk-estimator-doc-link.fitted {\n",
       "  /* fitted */\n",
       "  border: var(--sklearn-color-fitted-level-1) 1pt solid;\n",
       "  color: var(--sklearn-color-fitted-level-1);\n",
       "}\n",
       "\n",
       "/* On hover */\n",
       "div.sk-estimator:hover .sk-estimator-doc-link:hover,\n",
       ".sk-estimator-doc-link:hover,\n",
       "div.sk-label-container:hover .sk-estimator-doc-link:hover,\n",
       ".sk-estimator-doc-link:hover {\n",
       "  /* unfitted */\n",
       "  background-color: var(--sklearn-color-unfitted-level-3);\n",
       "  color: var(--sklearn-color-background);\n",
       "  text-decoration: none;\n",
       "}\n",
       "\n",
       "div.sk-estimator.fitted:hover .sk-estimator-doc-link.fitted:hover,\n",
       ".sk-estimator-doc-link.fitted:hover,\n",
       "div.sk-label-container:hover .sk-estimator-doc-link.fitted:hover,\n",
       ".sk-estimator-doc-link.fitted:hover {\n",
       "  /* fitted */\n",
       "  background-color: var(--sklearn-color-fitted-level-3);\n",
       "  color: var(--sklearn-color-background);\n",
       "  text-decoration: none;\n",
       "}\n",
       "\n",
       "/* Span, style for the box shown on hovering the info icon */\n",
       ".sk-estimator-doc-link span {\n",
       "  display: none;\n",
       "  z-index: 9999;\n",
       "  position: relative;\n",
       "  font-weight: normal;\n",
       "  right: .2ex;\n",
       "  padding: .5ex;\n",
       "  margin: .5ex;\n",
       "  width: min-content;\n",
       "  min-width: 20ex;\n",
       "  max-width: 50ex;\n",
       "  color: var(--sklearn-color-text);\n",
       "  box-shadow: 2pt 2pt 4pt #999;\n",
       "  /* unfitted */\n",
       "  background: var(--sklearn-color-unfitted-level-0);\n",
       "  border: .5pt solid var(--sklearn-color-unfitted-level-3);\n",
       "}\n",
       "\n",
       ".sk-estimator-doc-link.fitted span {\n",
       "  /* fitted */\n",
       "  background: var(--sklearn-color-fitted-level-0);\n",
       "  border: var(--sklearn-color-fitted-level-3);\n",
       "}\n",
       "\n",
       ".sk-estimator-doc-link:hover span {\n",
       "  display: block;\n",
       "}\n",
       "\n",
       "/* \"?\"-specific style due to the `<a>` HTML tag */\n",
       "\n",
       "#sk-container-id-1 a.estimator_doc_link {\n",
       "  float: right;\n",
       "  font-size: 1rem;\n",
       "  line-height: 1em;\n",
       "  font-family: monospace;\n",
       "  background-color: var(--sklearn-color-background);\n",
       "  border-radius: 1rem;\n",
       "  height: 1rem;\n",
       "  width: 1rem;\n",
       "  text-decoration: none;\n",
       "  /* unfitted */\n",
       "  color: var(--sklearn-color-unfitted-level-1);\n",
       "  border: var(--sklearn-color-unfitted-level-1) 1pt solid;\n",
       "}\n",
       "\n",
       "#sk-container-id-1 a.estimator_doc_link.fitted {\n",
       "  /* fitted */\n",
       "  border: var(--sklearn-color-fitted-level-1) 1pt solid;\n",
       "  color: var(--sklearn-color-fitted-level-1);\n",
       "}\n",
       "\n",
       "/* On hover */\n",
       "#sk-container-id-1 a.estimator_doc_link:hover {\n",
       "  /* unfitted */\n",
       "  background-color: var(--sklearn-color-unfitted-level-3);\n",
       "  color: var(--sklearn-color-background);\n",
       "  text-decoration: none;\n",
       "}\n",
       "\n",
       "#sk-container-id-1 a.estimator_doc_link.fitted:hover {\n",
       "  /* fitted */\n",
       "  background-color: var(--sklearn-color-fitted-level-3);\n",
       "}\n",
       "</style><div id=\"sk-container-id-1\" class=\"sk-top-container\"><div class=\"sk-text-repr-fallback\"><pre>MultinomialNB()</pre><b>In a Jupyter environment, please rerun this cell to show the HTML representation or trust the notebook. <br />On GitHub, the HTML representation is unable to render, please try loading this page with nbviewer.org.</b></div><div class=\"sk-container\" hidden><div class=\"sk-item\"><div class=\"sk-estimator fitted sk-toggleable\"><input class=\"sk-toggleable__control sk-hidden--visually\" id=\"sk-estimator-id-1\" type=\"checkbox\" checked><label for=\"sk-estimator-id-1\" class=\"sk-toggleable__label fitted sk-toggleable__label-arrow\"><div><div>MultinomialNB</div></div><div><a class=\"sk-estimator-doc-link fitted\" rel=\"noreferrer\" target=\"_blank\" href=\"https://scikit-learn.org/1.6/modules/generated/sklearn.naive_bayes.MultinomialNB.html\">?<span>Documentation for MultinomialNB</span></a><span class=\"sk-estimator-doc-link fitted\">i<span>Fitted</span></span></div></label><div class=\"sk-toggleable__content fitted\"><pre>MultinomialNB()</pre></div> </div></div></div></div>"
      ],
      "text/plain": [
       "MultinomialNB()"
      ]
     },
     "execution_count": 57,
     "metadata": {},
     "output_type": "execute_result"
    }
   ],
   "source": [
    "MNB_model.fit(train_X_vectorised, train_y)\n"
   ]
  },
  {
   "cell_type": "code",
   "execution_count": 58,
   "id": "73a70636",
   "metadata": {},
   "outputs": [],
   "source": [
    "predict = MNB_model.predict(test_X_vectorised)"
   ]
  },
  {
   "cell_type": "code",
   "execution_count": 59,
   "id": "f85a2943",
   "metadata": {},
   "outputs": [
    {
     "data": {
      "text/plain": [
       "0.8376540586485338"
      ]
     },
     "execution_count": 59,
     "metadata": {},
     "output_type": "execute_result"
    }
   ],
   "source": [
    "accuracy_score(test_y, predict)"
   ]
  },
  {
   "cell_type": "code",
   "execution_count": 60,
   "id": "6ab666de",
   "metadata": {},
   "outputs": [
    {
     "data": {
      "text/plain": [
       "0.942390369733448"
      ]
     },
     "execution_count": 60,
     "metadata": {},
     "output_type": "execute_result"
    }
   ],
   "source": [
    "precision_score(test_y, predict)"
   ]
  },
  {
   "cell_type": "code",
   "execution_count": 61,
   "id": "db67f069",
   "metadata": {},
   "outputs": [
    {
     "data": {
      "text/plain": [
       "<Axes: >"
      ]
     },
     "execution_count": 61,
     "metadata": {},
     "output_type": "execute_result"
    },
    {
     "data": {
      "image/png": "[encoded data removed]",
      "text/plain": [
       "<Figure size 640x480 with 2 Axes>"
      ]
     },
     "metadata": {},
     "output_type": "display_data"
    }
   ],
   "source": [
    "Cf_matrix = confusion_matrix(test_y, predict)\n",
    "sns.heatmap(Cf_matrix, annot=True, fmt='d', cmap='Blues', xticklabels=['Ham', 'Spam'], yticklabels=['Ham', 'Spam'])"
   ]
  },
  {
   "cell_type": "markdown",
   "id": "70cd1a79",
   "metadata": {},
   "source": [
    "Packing Up the Models and the Vectorisers "
   ]
  },
  {
   "cell_type": "code",
   "execution_count": 62,
   "id": "1dee5de4",
   "metadata": {},
   "outputs": [
    {
     "data": {
      "text/plain": [
       "['vectoriser.pkl']"
      ]
     },
     "execution_count": 62,
     "metadata": {},
     "output_type": "execute_result"
    }
   ],
   "source": [
    "import joblib\n",
    "joblib.dump(MNB_model, 'spam_model.pkl')\n",
    "joblib.dump(vectoriser, 'vectoriser.pkl')"
   ]
  }
 ],
 "metadata": {
  "kernelspec": {
   "display_name": "Codes",
   "language": "python",
   "name": "python3"
  },
  "language_info": {
   "codemirror_mode": {
    "name": "ipython",
    "version": 3
   },
   "file_extension": ".py",
   "mimetype": "text/x-python",
   "name": "python",
   "nbconvert_exporter": "python",
   "pygments_lexer": "ipython3",
   "version": "3.9.0"
  }
 },
 "nbformat": 4,
 "nbformat_minor": 5
}
